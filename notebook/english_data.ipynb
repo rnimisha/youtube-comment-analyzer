{
 "cells": [
  {
   "cell_type": "markdown",
   "id": "5ef392cf",
   "metadata": {},
   "source": [
    "## Import Libraries"
   ]
  },
  {
   "cell_type": "code",
   "execution_count": 1,
   "id": "9113283f",
   "metadata": {},
   "outputs": [],
   "source": [
    "import pandas as pd\n",
    "import numpy as np\n",
    "import matplotlib.pyplot as plt\n",
    "import seaborn as sns\n",
    "from wordcloud import WordCloud\n",
    "\n",
    "sns.set_style(\"whitegrid\")\n",
    "sns.set_palette(\"pastel\")"
   ]
  },
  {
   "cell_type": "code",
   "execution_count": 2,
   "id": "50ca1e58",
   "metadata": {},
   "outputs": [
    {
     "data": {
      "text/html": [
       "<div>\n",
       "<style scoped>\n",
       "    .dataframe tbody tr th:only-of-type {\n",
       "        vertical-align: middle;\n",
       "    }\n",
       "\n",
       "    .dataframe tbody tr th {\n",
       "        vertical-align: top;\n",
       "    }\n",
       "\n",
       "    .dataframe thead th {\n",
       "        text-align: right;\n",
       "    }\n",
       "</style>\n",
       "<table border=\"1\" class=\"dataframe\">\n",
       "  <thead>\n",
       "    <tr style=\"text-align: right;\">\n",
       "      <th></th>\n",
       "      <th>CommentID</th>\n",
       "      <th>VideoID</th>\n",
       "      <th>VideoTitle</th>\n",
       "      <th>AuthorName</th>\n",
       "      <th>AuthorChannelID</th>\n",
       "      <th>CommentText</th>\n",
       "      <th>Sentiment</th>\n",
       "      <th>Likes</th>\n",
       "      <th>Replies</th>\n",
       "      <th>PublishedAt</th>\n",
       "      <th>CountryCode</th>\n",
       "      <th>CategoryID</th>\n",
       "    </tr>\n",
       "  </thead>\n",
       "  <tbody>\n",
       "    <tr>\n",
       "      <th>0</th>\n",
       "      <td>UgyRjrEdJIPrf68uND14AaABAg</td>\n",
       "      <td>mcY4M9gjtsI</td>\n",
       "      <td>They killed my friend.#tales #movie #shorts</td>\n",
       "      <td>@OneWhoWandered</td>\n",
       "      <td>UC_-UEXaBL1dqqUPGkDll49A</td>\n",
       "      <td>Anyone know what movie this is?</td>\n",
       "      <td>Neutral</td>\n",
       "      <td>0</td>\n",
       "      <td>2</td>\n",
       "      <td>2025-01-15 00:54:55</td>\n",
       "      <td>NZ</td>\n",
       "      <td>1</td>\n",
       "    </tr>\n",
       "    <tr>\n",
       "      <th>1</th>\n",
       "      <td>UgxXxEIySAwnMNw8D7N4AaABAg</td>\n",
       "      <td>2vuXcw9SZbA</td>\n",
       "      <td>Man Utd conceding first penalty at home in yea...</td>\n",
       "      <td>@chiefvon3068</td>\n",
       "      <td>UCZ1LcZESjYqzaQRhjdZJFwg</td>\n",
       "      <td>The fact they're holding each other back while...</td>\n",
       "      <td>Positive</td>\n",
       "      <td>0</td>\n",
       "      <td>0</td>\n",
       "      <td>2025-01-13 23:51:46</td>\n",
       "      <td>AU</td>\n",
       "      <td>17</td>\n",
       "    </tr>\n",
       "    <tr>\n",
       "      <th>2</th>\n",
       "      <td>UgxB0jh2Ur41mcXr5IB4AaABAg</td>\n",
       "      <td>papg2tsoFzg</td>\n",
       "      <td>Welcome to Javascript Course</td>\n",
       "      <td>@Abdulla-ip8qr</td>\n",
       "      <td>UCWBK35w5Swy1iF5xIbEyw3A</td>\n",
       "      <td>waiting next video will be?</td>\n",
       "      <td>Neutral</td>\n",
       "      <td>1</td>\n",
       "      <td>0</td>\n",
       "      <td>2020-07-06 13:18:16</td>\n",
       "      <td>IN</td>\n",
       "      <td>27</td>\n",
       "    </tr>\n",
       "    <tr>\n",
       "      <th>3</th>\n",
       "      <td>UgwMOh95MfK0GuXLLrF4AaABAg</td>\n",
       "      <td>31KTdfRH6nY</td>\n",
       "      <td>Building web applications in Java with Spring ...</td>\n",
       "      <td>@finnianthehuman</td>\n",
       "      <td>UCwQ2Z03nOcMxWozBb_Cv66w</td>\n",
       "      <td>Thanks for the great video.\\n\\nI don't underst...</td>\n",
       "      <td>Neutral</td>\n",
       "      <td>0</td>\n",
       "      <td>1</td>\n",
       "      <td>2024-09-18 12:04:12</td>\n",
       "      <td>US</td>\n",
       "      <td>27</td>\n",
       "    </tr>\n",
       "    <tr>\n",
       "      <th>4</th>\n",
       "      <td>UgxJuUe5ysG8OSbABAl4AaABAg</td>\n",
       "      <td>-hV6aeyPHPA</td>\n",
       "      <td>After a new engine her car dies on her way hom...</td>\n",
       "      <td>@ryoutubeplaylistb6137</td>\n",
       "      <td>UCTTcJ0tsAKQokmHB2qVb1qQ</td>\n",
       "      <td>Good person helping good people.\\nThis is how ...</td>\n",
       "      <td>Positive</td>\n",
       "      <td>3</td>\n",
       "      <td>1</td>\n",
       "      <td>2025-01-10 19:39:03</td>\n",
       "      <td>US</td>\n",
       "      <td>2</td>\n",
       "    </tr>\n",
       "  </tbody>\n",
       "</table>\n",
       "</div>"
      ],
      "text/plain": [
       "                    CommentID      VideoID  \\\n",
       "0  UgyRjrEdJIPrf68uND14AaABAg  mcY4M9gjtsI   \n",
       "1  UgxXxEIySAwnMNw8D7N4AaABAg  2vuXcw9SZbA   \n",
       "2  UgxB0jh2Ur41mcXr5IB4AaABAg  papg2tsoFzg   \n",
       "3  UgwMOh95MfK0GuXLLrF4AaABAg  31KTdfRH6nY   \n",
       "4  UgxJuUe5ysG8OSbABAl4AaABAg  -hV6aeyPHPA   \n",
       "\n",
       "                                          VideoTitle              AuthorName  \\\n",
       "0        They killed my friend.#tales #movie #shorts         @OneWhoWandered   \n",
       "1  Man Utd conceding first penalty at home in yea...           @chiefvon3068   \n",
       "2                       Welcome to Javascript Course          @Abdulla-ip8qr   \n",
       "3  Building web applications in Java with Spring ...        @finnianthehuman   \n",
       "4  After a new engine her car dies on her way hom...  @ryoutubeplaylistb6137   \n",
       "\n",
       "            AuthorChannelID  \\\n",
       "0  UC_-UEXaBL1dqqUPGkDll49A   \n",
       "1  UCZ1LcZESjYqzaQRhjdZJFwg   \n",
       "2  UCWBK35w5Swy1iF5xIbEyw3A   \n",
       "3  UCwQ2Z03nOcMxWozBb_Cv66w   \n",
       "4  UCTTcJ0tsAKQokmHB2qVb1qQ   \n",
       "\n",
       "                                         CommentText Sentiment  Likes  \\\n",
       "0                    Anyone know what movie this is?   Neutral      0   \n",
       "1  The fact they're holding each other back while...  Positive      0   \n",
       "2                        waiting next video will be?   Neutral      1   \n",
       "3  Thanks for the great video.\\n\\nI don't underst...   Neutral      0   \n",
       "4  Good person helping good people.\\nThis is how ...  Positive      3   \n",
       "\n",
       "   Replies          PublishedAt CountryCode  CategoryID  \n",
       "0        2  2025-01-15 00:54:55          NZ           1  \n",
       "1        0  2025-01-13 23:51:46          AU          17  \n",
       "2        0  2020-07-06 13:18:16          IN          27  \n",
       "3        1  2024-09-18 12:04:12          US          27  \n",
       "4        1  2025-01-10 19:39:03          US           2  "
      ]
     },
     "execution_count": 2,
     "metadata": {},
     "output_type": "execute_result"
    }
   ],
   "source": [
    "df = pd.read_csv(\"../data/english_data.csv\")\n",
    "df.head()"
   ]
  },
  {
   "cell_type": "markdown",
   "id": "93d2ac77",
   "metadata": {},
   "source": [
    "### Select required columns only"
   ]
  },
  {
   "cell_type": "code",
   "execution_count": 3,
   "id": "0f21bf5d",
   "metadata": {},
   "outputs": [],
   "source": [
    "df = df[[\"CommentText\", \"Sentiment\"]]\n",
    "df.rename(columns={\"CommentText\": \"Comment\"}, inplace=True)"
   ]
  },
  {
   "cell_type": "code",
   "execution_count": 4,
   "id": "453280db",
   "metadata": {},
   "outputs": [
    {
     "data": {
      "text/html": [
       "<div>\n",
       "<style scoped>\n",
       "    .dataframe tbody tr th:only-of-type {\n",
       "        vertical-align: middle;\n",
       "    }\n",
       "\n",
       "    .dataframe tbody tr th {\n",
       "        vertical-align: top;\n",
       "    }\n",
       "\n",
       "    .dataframe thead th {\n",
       "        text-align: right;\n",
       "    }\n",
       "</style>\n",
       "<table border=\"1\" class=\"dataframe\">\n",
       "  <thead>\n",
       "    <tr style=\"text-align: right;\">\n",
       "      <th></th>\n",
       "      <th>Comment</th>\n",
       "      <th>Sentiment</th>\n",
       "    </tr>\n",
       "  </thead>\n",
       "  <tbody>\n",
       "    <tr>\n",
       "      <th>0</th>\n",
       "      <td>Anyone know what movie this is?</td>\n",
       "      <td>Neutral</td>\n",
       "    </tr>\n",
       "    <tr>\n",
       "      <th>1</th>\n",
       "      <td>The fact they're holding each other back while...</td>\n",
       "      <td>Positive</td>\n",
       "    </tr>\n",
       "    <tr>\n",
       "      <th>2</th>\n",
       "      <td>waiting next video will be?</td>\n",
       "      <td>Neutral</td>\n",
       "    </tr>\n",
       "    <tr>\n",
       "      <th>3</th>\n",
       "      <td>Thanks for the great video.\\n\\nI don't underst...</td>\n",
       "      <td>Neutral</td>\n",
       "    </tr>\n",
       "    <tr>\n",
       "      <th>4</th>\n",
       "      <td>Good person helping good people.\\nThis is how ...</td>\n",
       "      <td>Positive</td>\n",
       "    </tr>\n",
       "  </tbody>\n",
       "</table>\n",
       "</div>"
      ],
      "text/plain": [
       "                                             Comment Sentiment\n",
       "0                    Anyone know what movie this is?   Neutral\n",
       "1  The fact they're holding each other back while...  Positive\n",
       "2                        waiting next video will be?   Neutral\n",
       "3  Thanks for the great video.\\n\\nI don't underst...   Neutral\n",
       "4  Good person helping good people.\\nThis is how ...  Positive"
      ]
     },
     "execution_count": 4,
     "metadata": {},
     "output_type": "execute_result"
    }
   ],
   "source": [
    "df.head()"
   ]
  },
  {
   "cell_type": "code",
   "execution_count": 6,
   "id": "00e1062b",
   "metadata": {},
   "outputs": [
    {
     "name": "stdout",
     "output_type": "stream",
     "text": [
      "<class 'pandas.core.frame.DataFrame'>\n",
      "RangeIndex: 1032225 entries, 0 to 1032224\n",
      "Data columns (total 2 columns):\n",
      " #   Column     Non-Null Count    Dtype \n",
      "---  ------     --------------    ----- \n",
      " 0   Comment    1032225 non-null  object\n",
      " 1   Sentiment  1032225 non-null  object\n",
      "dtypes: object(2)\n",
      "memory usage: 15.8+ MB\n"
     ]
    }
   ],
   "source": [
    "df.info()"
   ]
  },
  {
   "cell_type": "markdown",
   "id": "f4a998f1",
   "metadata": {},
   "source": [
    "### Handle Nulls"
   ]
  },
  {
   "cell_type": "code",
   "execution_count": 7,
   "id": "c2dc22c7",
   "metadata": {},
   "outputs": [
    {
     "name": "stdout",
     "output_type": "stream",
     "text": [
      "<class 'pandas.core.frame.DataFrame'>\n",
      "Index: 161 entries, 4604 to 1020885\n",
      "Data columns (total 2 columns):\n",
      " #   Column     Non-Null Count  Dtype \n",
      "---  ------     --------------  ----- \n",
      " 0   Comment    161 non-null    object\n",
      " 1   Sentiment  161 non-null    object\n",
      "dtypes: object(2)\n",
      "memory usage: 3.8+ KB\n"
     ]
    }
   ],
   "source": [
    "df[\"Comment\"] = df[\"Comment\"].str.strip()\n",
    "null_comments = df[df[\"Comment\"].isnull() | (df[\"Comment\"] == \"\")]\n",
    "null_comments.info()"
   ]
  },
  {
   "cell_type": "code",
   "execution_count": 8,
   "id": "d84eabc2",
   "metadata": {},
   "outputs": [
    {
     "data": {
      "text/html": [
       "<div>\n",
       "<style scoped>\n",
       "    .dataframe tbody tr th:only-of-type {\n",
       "        vertical-align: middle;\n",
       "    }\n",
       "\n",
       "    .dataframe tbody tr th {\n",
       "        vertical-align: top;\n",
       "    }\n",
       "\n",
       "    .dataframe thead th {\n",
       "        text-align: right;\n",
       "    }\n",
       "</style>\n",
       "<table border=\"1\" class=\"dataframe\">\n",
       "  <thead>\n",
       "    <tr style=\"text-align: right;\">\n",
       "      <th></th>\n",
       "      <th>Comment</th>\n",
       "      <th>Sentiment</th>\n",
       "    </tr>\n",
       "  </thead>\n",
       "  <tbody>\n",
       "  </tbody>\n",
       "</table>\n",
       "</div>"
      ],
      "text/plain": [
       "Empty DataFrame\n",
       "Columns: [Comment, Sentiment]\n",
       "Index: []"
      ]
     },
     "execution_count": 8,
     "metadata": {},
     "output_type": "execute_result"
    }
   ],
   "source": [
    "df = df[df[\"Comment\"].notna() & (df[\"Comment\"] != \"\")]\n",
    "df[df[\"Comment\"].isnull() | (df[\"Comment\"] == \"\")]"
   ]
  },
  {
   "cell_type": "markdown",
   "id": "d4ed2ebb",
   "metadata": {},
   "source": [
    "### Handle duplicates"
   ]
  },
  {
   "cell_type": "code",
   "execution_count": 9,
   "id": "1e0b012c",
   "metadata": {},
   "outputs": [
    {
     "name": "stdout",
     "output_type": "stream",
     "text": [
      "40335\n"
     ]
    }
   ],
   "source": [
    "print(df.duplicated().sum())"
   ]
  },
  {
   "cell_type": "code",
   "execution_count": 10,
   "id": "1e4cde00",
   "metadata": {},
   "outputs": [
    {
     "name": "stdout",
     "output_type": "stream",
     "text": [
      "0\n"
     ]
    }
   ],
   "source": [
    "df.drop_duplicates(inplace=True)\n",
    "print(df.duplicated().sum())"
   ]
  },
  {
   "cell_type": "code",
   "execution_count": 11,
   "id": "d7f5c598",
   "metadata": {},
   "outputs": [
    {
     "name": "stdout",
     "output_type": "stream",
     "text": [
      "<class 'pandas.core.frame.DataFrame'>\n",
      "Index: 991729 entries, 0 to 1032224\n",
      "Data columns (total 2 columns):\n",
      " #   Column     Non-Null Count   Dtype \n",
      "---  ------     --------------   ----- \n",
      " 0   Comment    991729 non-null  object\n",
      " 1   Sentiment  991729 non-null  object\n",
      "dtypes: object(2)\n",
      "memory usage: 22.7+ MB\n"
     ]
    }
   ],
   "source": [
    "df.info()"
   ]
  },
  {
   "cell_type": "markdown",
   "id": "4c4b51ce",
   "metadata": {},
   "source": [
    "### Handle non english language "
   ]
  },
  {
   "cell_type": "code",
   "execution_count": 12,
   "id": "d94a80bf",
   "metadata": {},
   "outputs": [
    {
     "data": {
      "text/plain": [
       "Sentiment\n",
       "Negative    339843\n",
       "Neutral     327086\n",
       "Positive    324800\n",
       "Name: count, dtype: int64"
      ]
     },
     "execution_count": 12,
     "metadata": {},
     "output_type": "execute_result"
    }
   ],
   "source": [
    "df[\"Sentiment\"].value_counts()"
   ]
  },
  {
   "cell_type": "code",
   "execution_count": 13,
   "id": "98516b4b",
   "metadata": {},
   "outputs": [
    {
     "data": {
      "text/html": [
       "<div>\n",
       "<style scoped>\n",
       "    .dataframe tbody tr th:only-of-type {\n",
       "        vertical-align: middle;\n",
       "    }\n",
       "\n",
       "    .dataframe tbody tr th {\n",
       "        vertical-align: top;\n",
       "    }\n",
       "\n",
       "    .dataframe thead th {\n",
       "        text-align: right;\n",
       "    }\n",
       "</style>\n",
       "<table border=\"1\" class=\"dataframe\">\n",
       "  <thead>\n",
       "    <tr style=\"text-align: right;\">\n",
       "      <th></th>\n",
       "      <th>Comment</th>\n",
       "      <th>Sentiment</th>\n",
       "    </tr>\n",
       "  </thead>\n",
       "  <tbody>\n",
       "    <tr>\n",
       "      <th>0</th>\n",
       "      <td>Anyone know what movie this is?</td>\n",
       "      <td>Neutral</td>\n",
       "    </tr>\n",
       "    <tr>\n",
       "      <th>1</th>\n",
       "      <td>The fact they're holding each other back while...</td>\n",
       "      <td>Positive</td>\n",
       "    </tr>\n",
       "    <tr>\n",
       "      <th>2</th>\n",
       "      <td>waiting next video will be?</td>\n",
       "      <td>Neutral</td>\n",
       "    </tr>\n",
       "    <tr>\n",
       "      <th>3</th>\n",
       "      <td>Thanks for the great video.\\n\\nI don't underst...</td>\n",
       "      <td>Neutral</td>\n",
       "    </tr>\n",
       "    <tr>\n",
       "      <th>4</th>\n",
       "      <td>Good person helping good people.\\nThis is how ...</td>\n",
       "      <td>Positive</td>\n",
       "    </tr>\n",
       "  </tbody>\n",
       "</table>\n",
       "</div>"
      ],
      "text/plain": [
       "                                             Comment Sentiment\n",
       "0                    Anyone know what movie this is?   Neutral\n",
       "1  The fact they're holding each other back while...  Positive\n",
       "2                        waiting next video will be?   Neutral\n",
       "3  Thanks for the great video.\\n\\nI don't underst...   Neutral\n",
       "4  Good person helping good people.\\nThis is how ...  Positive"
      ]
     },
     "execution_count": 13,
     "metadata": {},
     "output_type": "execute_result"
    }
   ],
   "source": [
    "df.head()"
   ]
  },
  {
   "cell_type": "code",
   "execution_count": 14,
   "id": "3f7c86c3",
   "metadata": {},
   "outputs": [],
   "source": [
    "import langid\n",
    "\n",
    "def detect_language(text):\n",
    "    try:\n",
    "        return langid.classify(text)[0]\n",
    "    except Exception:\n",
    "        return None\n",
    "\n",
    "df[\"language\"] = df[\"Comment\"].apply(detect_language)"
   ]
  },
  {
   "cell_type": "code",
   "execution_count": 15,
   "id": "2458f2ad",
   "metadata": {},
   "outputs": [
    {
     "data": {
      "text/html": [
       "<div>\n",
       "<style scoped>\n",
       "    .dataframe tbody tr th:only-of-type {\n",
       "        vertical-align: middle;\n",
       "    }\n",
       "\n",
       "    .dataframe tbody tr th {\n",
       "        vertical-align: top;\n",
       "    }\n",
       "\n",
       "    .dataframe thead th {\n",
       "        text-align: right;\n",
       "    }\n",
       "</style>\n",
       "<table border=\"1\" class=\"dataframe\">\n",
       "  <thead>\n",
       "    <tr style=\"text-align: right;\">\n",
       "      <th></th>\n",
       "      <th>Comment</th>\n",
       "      <th>Sentiment</th>\n",
       "      <th>language</th>\n",
       "    </tr>\n",
       "  </thead>\n",
       "  <tbody>\n",
       "    <tr>\n",
       "      <th>0</th>\n",
       "      <td>Anyone know what movie this is?</td>\n",
       "      <td>Neutral</td>\n",
       "      <td>en</td>\n",
       "    </tr>\n",
       "    <tr>\n",
       "      <th>1</th>\n",
       "      <td>The fact they're holding each other back while...</td>\n",
       "      <td>Positive</td>\n",
       "      <td>en</td>\n",
       "    </tr>\n",
       "    <tr>\n",
       "      <th>2</th>\n",
       "      <td>waiting next video will be?</td>\n",
       "      <td>Neutral</td>\n",
       "      <td>en</td>\n",
       "    </tr>\n",
       "    <tr>\n",
       "      <th>3</th>\n",
       "      <td>Thanks for the great video.\\n\\nI don't underst...</td>\n",
       "      <td>Neutral</td>\n",
       "      <td>en</td>\n",
       "    </tr>\n",
       "    <tr>\n",
       "      <th>4</th>\n",
       "      <td>Good person helping good people.\\nThis is how ...</td>\n",
       "      <td>Positive</td>\n",
       "      <td>en</td>\n",
       "    </tr>\n",
       "  </tbody>\n",
       "</table>\n",
       "</div>"
      ],
      "text/plain": [
       "                                             Comment Sentiment language\n",
       "0                    Anyone know what movie this is?   Neutral       en\n",
       "1  The fact they're holding each other back while...  Positive       en\n",
       "2                        waiting next video will be?   Neutral       en\n",
       "3  Thanks for the great video.\\n\\nI don't underst...   Neutral       en\n",
       "4  Good person helping good people.\\nThis is how ...  Positive       en"
      ]
     },
     "execution_count": 15,
     "metadata": {},
     "output_type": "execute_result"
    }
   ],
   "source": [
    "df.head()"
   ]
  },
  {
   "cell_type": "code",
   "execution_count": 16,
   "id": "4f9f9e90",
   "metadata": {},
   "outputs": [
    {
     "data": {
      "text/plain": [
       "language\n",
       "en    869421\n",
       "zh     10061\n",
       "tl      9209\n",
       "es      9096\n",
       "ru      8291\n",
       "       ...  \n",
       "ky        46\n",
       "ps        34\n",
       "te        33\n",
       "gu        29\n",
       "ug        14\n",
       "Name: count, Length: 97, dtype: int64"
      ]
     },
     "execution_count": 16,
     "metadata": {},
     "output_type": "execute_result"
    }
   ],
   "source": [
    "df.value_counts(\"language\")"
   ]
  },
  {
   "cell_type": "code",
   "execution_count": 17,
   "id": "4fe1d54d",
   "metadata": {},
   "outputs": [
    {
     "data": {
      "text/plain": [
       "(869421, 3)"
      ]
     },
     "execution_count": 17,
     "metadata": {},
     "output_type": "execute_result"
    }
   ],
   "source": [
    "df = df[df[\"language\"] == \"en\"]\n",
    "df.shape"
   ]
  },
  {
   "cell_type": "code",
   "execution_count": 18,
   "id": "08983fd6",
   "metadata": {},
   "outputs": [
    {
     "data": {
      "text/plain": [
       "Sentiment\n",
       "Negative    308079\n",
       "Neutral     282791\n",
       "Positive    278551\n",
       "Name: count, dtype: int64"
      ]
     },
     "execution_count": 18,
     "metadata": {},
     "output_type": "execute_result"
    }
   ],
   "source": [
    "df.value_counts(\"Sentiment\")"
   ]
  },
  {
   "cell_type": "code",
   "execution_count": 19,
   "id": "c6fd5a10",
   "metadata": {},
   "outputs": [
    {
     "data": {
      "text/plain": [
       "Sentiment\n",
       "Negative    308079\n",
       "Positive    278551\n",
       "Name: count, dtype: int64"
      ]
     },
     "execution_count": 19,
     "metadata": {},
     "output_type": "execute_result"
    }
   ],
   "source": [
    "# not using neutral comments\n",
    "df = df[df[\"Sentiment\"] != \"Neutral\"]\n",
    "df[\"Sentiment\"].value_counts()"
   ]
  },
  {
   "cell_type": "code",
   "execution_count": 20,
   "id": "6414d8b2",
   "metadata": {},
   "outputs": [
    {
     "data": {
      "text/plain": [
       "Sentiment\n",
       "Positive    220000\n",
       "Negative    220000\n",
       "Name: count, dtype: int64"
      ]
     },
     "execution_count": 20,
     "metadata": {},
     "output_type": "execute_result"
    }
   ],
   "source": [
    "# Using 220000 rows only\n",
    "each_class = 220000\n",
    "\n",
    "df_positive = df[df[\"Sentiment\"] == \"Positive\"].iloc[:each_class]\n",
    "df_negative = df[df[\"Sentiment\"] == \"Negative\"].iloc[:each_class]\n",
    "\n",
    "new_df = pd.concat([df_positive, df_negative])\n",
    "df = new_df.sample(frac=1, random_state=42).reset_index(drop=True)\n",
    "\n",
    "df[\"Sentiment\"].value_counts()"
   ]
  },
  {
   "cell_type": "code",
   "execution_count": 21,
   "id": "fb62f910",
   "metadata": {},
   "outputs": [
    {
     "data": {
      "text/html": [
       "<div>\n",
       "<style scoped>\n",
       "    .dataframe tbody tr th:only-of-type {\n",
       "        vertical-align: middle;\n",
       "    }\n",
       "\n",
       "    .dataframe tbody tr th {\n",
       "        vertical-align: top;\n",
       "    }\n",
       "\n",
       "    .dataframe thead th {\n",
       "        text-align: right;\n",
       "    }\n",
       "</style>\n",
       "<table border=\"1\" class=\"dataframe\">\n",
       "  <thead>\n",
       "    <tr style=\"text-align: right;\">\n",
       "      <th></th>\n",
       "      <th>Comment</th>\n",
       "      <th>Sentiment</th>\n",
       "    </tr>\n",
       "  </thead>\n",
       "  <tbody>\n",
       "    <tr>\n",
       "      <th>0</th>\n",
       "      <td>What Asmon said is not contradictory, but 2 se...</td>\n",
       "      <td>Positive</td>\n",
       "    </tr>\n",
       "    <tr>\n",
       "      <th>1</th>\n",
       "      <td>Sir, even with signed execution, when I verify...</td>\n",
       "      <td>Negative</td>\n",
       "    </tr>\n",
       "    <tr>\n",
       "      <th>2</th>\n",
       "      <td>When I use 'git master', I receive: 'git: 'mas...</td>\n",
       "      <td>Negative</td>\n",
       "    </tr>\n",
       "    <tr>\n",
       "      <th>3</th>\n",
       "      <td>Russiagate was bullshit? Are you sure about th...</td>\n",
       "      <td>Negative</td>\n",
       "    </tr>\n",
       "    <tr>\n",
       "      <th>4</th>\n",
       "      <td>Slipper is the universal weapon of moms!!! 😂😂😂</td>\n",
       "      <td>Positive</td>\n",
       "    </tr>\n",
       "  </tbody>\n",
       "</table>\n",
       "</div>"
      ],
      "text/plain": [
       "                                             Comment Sentiment\n",
       "0  What Asmon said is not contradictory, but 2 se...  Positive\n",
       "1  Sir, even with signed execution, when I verify...  Negative\n",
       "2  When I use 'git master', I receive: 'git: 'mas...  Negative\n",
       "3  Russiagate was bullshit? Are you sure about th...  Negative\n",
       "4     Slipper is the universal weapon of moms!!! 😂😂😂  Positive"
      ]
     },
     "execution_count": 21,
     "metadata": {},
     "output_type": "execute_result"
    }
   ],
   "source": [
    "df.drop(columns=[\"language\"], inplace=True)\n",
    "df.head()"
   ]
  },
  {
   "cell_type": "code",
   "execution_count": 22,
   "id": "20d28de4",
   "metadata": {},
   "outputs": [],
   "source": [
    "df.to_csv(\"../data/english_only_data.csv\", index=False)"
   ]
  },
  {
   "cell_type": "code",
   "execution_count": null,
   "id": "b285f4b7",
   "metadata": {},
   "outputs": [],
   "source": []
  }
 ],
 "metadata": {
  "kernelspec": {
   "display_name": "venv",
   "language": "python",
   "name": "python3"
  },
  "language_info": {
   "codemirror_mode": {
    "name": "ipython",
    "version": 3
   },
   "file_extension": ".py",
   "mimetype": "text/x-python",
   "name": "python",
   "nbconvert_exporter": "python",
   "pygments_lexer": "ipython3",
   "version": "3.12.6"
  }
 },
 "nbformat": 4,
 "nbformat_minor": 5
}
