{
 "cells": [
  {
   "cell_type": "markdown",
   "id": "b7bc3da6",
   "metadata": {},
   "source": [
    "## Import Libraries"
   ]
  },
  {
   "cell_type": "code",
   "execution_count": 1,
   "id": "f35e71a3",
   "metadata": {},
   "outputs": [],
   "source": [
    "import pandas as pd\n",
    "from tqdm import tqdm\n",
    "\n",
    "import torch\n",
    "from torch.utils.data import Dataset, DataLoader\n",
    "import torch.nn as nn\n",
    "from torch.optim import AdamW\n",
    "\n",
    "from sklearn.utils import shuffle\n",
    "from sklearn.model_selection import train_test_split\n",
    "from transformers import XLMRobertaTokenizer, XLMRobertaModel\n",
    "from sklearn.metrics import accuracy_score"
   ]
  },
  {
   "cell_type": "code",
   "execution_count": 2,
   "id": "4c5fabd6",
   "metadata": {},
   "outputs": [],
   "source": [
    "device = torch.device(\"cuda\" if torch.cuda.is_available() else \"cpu\")\n",
    "tokenizer = XLMRobertaTokenizer.from_pretrained(\"xlm-roberta-base\")"
   ]
  },
  {
   "cell_type": "code",
   "execution_count": 3,
   "id": "60de3e52",
   "metadata": {},
   "outputs": [
    {
     "data": {
      "text/html": [
       "<div>\n",
       "<style scoped>\n",
       "    .dataframe tbody tr th:only-of-type {\n",
       "        vertical-align: middle;\n",
       "    }\n",
       "\n",
       "    .dataframe tbody tr th {\n",
       "        vertical-align: top;\n",
       "    }\n",
       "\n",
       "    .dataframe thead th {\n",
       "        text-align: right;\n",
       "    }\n",
       "</style>\n",
       "<table border=\"1\" class=\"dataframe\">\n",
       "  <thead>\n",
       "    <tr style=\"text-align: right;\">\n",
       "      <th></th>\n",
       "      <th>Comment</th>\n",
       "      <th>Sentiment</th>\n",
       "      <th>language</th>\n",
       "    </tr>\n",
       "  </thead>\n",
       "  <tbody>\n",
       "    <tr>\n",
       "      <th>133506</th>\n",
       "      <td>맛있고 분위기도 좋아요! 야외에서도 식사 가능해서 날씨 좋으면 더 좋아요</td>\n",
       "      <td>1</td>\n",
       "      <td>ko</td>\n",
       "    </tr>\n",
       "    <tr>\n",
       "      <th>189273</th>\n",
       "      <td>어느 수산시장에서나 나오면 먹을 수 있는 민어.의 맛집  서비스 업종 역사상 최악 ...</td>\n",
       "      <td>0</td>\n",
       "      <td>ko</td>\n",
       "    </tr>\n",
       "    <tr>\n",
       "      <th>2925</th>\n",
       "      <td>wow wow! what a funky little fleet!!! too sassy</td>\n",
       "      <td>1</td>\n",
       "      <td>en</td>\n",
       "    </tr>\n",
       "    <tr>\n",
       "      <th>41958</th>\n",
       "      <td>The invention original purpose is the most Bri...</td>\n",
       "      <td>1</td>\n",
       "      <td>en</td>\n",
       "    </tr>\n",
       "    <tr>\n",
       "      <th>104357</th>\n",
       "      <td>양도 푸짐하고 소스 모자라면 리필도 가능해서 좋아요. 한 명이 먹기에는 좀 많은 양...</td>\n",
       "      <td>1</td>\n",
       "      <td>ko</td>\n",
       "    </tr>\n",
       "    <tr>\n",
       "      <th>32398</th>\n",
       "      <td>I feel sorry for this guy because you can tell...</td>\n",
       "      <td>0</td>\n",
       "      <td>en</td>\n",
       "    </tr>\n",
       "    <tr>\n",
       "      <th>158051</th>\n",
       "      <td>맛의 고장에 이런 식당이 있는 게 불가사의함..</td>\n",
       "      <td>0</td>\n",
       "      <td>ko</td>\n",
       "    </tr>\n",
       "    <tr>\n",
       "      <th>81396</th>\n",
       "      <td>I've never heard someone talk so beautifully a...</td>\n",
       "      <td>1</td>\n",
       "      <td>en</td>\n",
       "    </tr>\n",
       "    <tr>\n",
       "      <th>156946</th>\n",
       "      <td>평점 0점은 왜 없는 거죠... 맛 집이라 해서 꾸불꾸불 산길을 비포장도로 따라 내...</td>\n",
       "      <td>0</td>\n",
       "      <td>ko</td>\n",
       "    </tr>\n",
       "    <tr>\n",
       "      <th>108275</th>\n",
       "      <td>솔직히 별 하나도 아깝네요. 팥빙수라고 시켰는데 우유도 아니고 연유로 범벅을 해 가...</td>\n",
       "      <td>0</td>\n",
       "      <td>ko</td>\n",
       "    </tr>\n",
       "  </tbody>\n",
       "</table>\n",
       "</div>"
      ],
      "text/plain": [
       "                                                  Comment  Sentiment language\n",
       "133506           맛있고 분위기도 좋아요! 야외에서도 식사 가능해서 날씨 좋으면 더 좋아요          1       ko\n",
       "189273  어느 수산시장에서나 나오면 먹을 수 있는 민어.의 맛집  서비스 업종 역사상 최악 ...          0       ko\n",
       "2925      wow wow! what a funky little fleet!!! too sassy          1       en\n",
       "41958   The invention original purpose is the most Bri...          1       en\n",
       "104357  양도 푸짐하고 소스 모자라면 리필도 가능해서 좋아요. 한 명이 먹기에는 좀 많은 양...          1       ko\n",
       "32398   I feel sorry for this guy because you can tell...          0       en\n",
       "158051                         맛의 고장에 이런 식당이 있는 게 불가사의함..          0       ko\n",
       "81396   I've never heard someone talk so beautifully a...          1       en\n",
       "156946  평점 0점은 왜 없는 거죠... 맛 집이라 해서 꾸불꾸불 산길을 비포장도로 따라 내...          0       ko\n",
       "108275  솔직히 별 하나도 아깝네요. 팥빙수라고 시켰는데 우유도 아니고 연유로 범벅을 해 가...          0       ko"
      ]
     },
     "execution_count": 3,
     "metadata": {},
     "output_type": "execute_result"
    }
   ],
   "source": [
    "df_en = pd.read_csv(\"../../data/english_only_data.csv\")\n",
    "df_ko = pd.read_csv(\"../../data/korean_only_data.csv\")\n",
    "df_en[\"language\"] = \"en\"\n",
    "df_ko[\"language\"] = \"ko\"\n",
    "\n",
    "df = pd.concat([df_en, df_ko], ignore_index=True)\n",
    "df = shuffle(df, random_state=70)\n",
    "\n",
    "df[\"Sentiment\"] = df[\"Sentiment\"].map({\"Negative\": 0, \"Positive\": 1, \"negative\": 0, \"positive\": 1}).astype(int)\n",
    "df.head(10)"
   ]
  },
  {
   "cell_type": "code",
   "execution_count": 4,
   "id": "3a6fb6ca",
   "metadata": {},
   "outputs": [],
   "source": [
    "class SentimentDataset(Dataset):\n",
    "    def __init__(self, texts, labels, tokenizer, max_length):\n",
    "        self.texts = texts\n",
    "        self.labels = labels\n",
    "        self.tokenizer = tokenizer\n",
    "        self.max_length = max_length\n",
    "\n",
    "    def __len__(self):\n",
    "        return len(self.texts)\n",
    "\n",
    "    def __getitem__(self, index):\n",
    "        encoding = self.tokenizer.encode_plus(\n",
    "            str(self.texts[index]),\n",
    "            add_special_tokens=True,\n",
    "            max_length=self.max_length,\n",
    "            padding=\"max_length\",\n",
    "            truncation=True,\n",
    "            return_attention_mask=True,\n",
    "            return_tensors=\"pt\",\n",
    "        )\n",
    "\n",
    "        ids = encoding[\"input_ids\"].flatten()\n",
    "        attention_mask = encoding[\"attention_mask\"].flatten()\n",
    "        labels = torch.tensor(self.labels[index], dtype= torch.long)\n",
    "\n",
    "        return {\n",
    "            \"ids\": ids,\n",
    "            \"attention_mask\" : attention_mask,\n",
    "            \"labels\" : labels\n",
    "        }"
   ]
  },
  {
   "cell_type": "code",
   "execution_count": 5,
   "id": "64c50ecc",
   "metadata": {},
   "outputs": [],
   "source": [
    "dataset = SentimentDataset(df[\"Comment\"][:10].tolist(), df[\"Sentiment\"][:10].tolist(), tokenizer, 128)"
   ]
  },
  {
   "cell_type": "code",
   "execution_count": 6,
   "id": "6ade79f7",
   "metadata": {},
   "outputs": [
    {
     "data": {
      "text/plain": [
       "{'ids': tensor([     0, 104130, 104130,     38,   2367,     10,  23884,     53,  10176,\n",
       "          18738,    126,   1564,   5792,     57,  46048,      2,      1,      1,\n",
       "              1,      1,      1,      1,      1,      1,      1,      1,      1,\n",
       "              1,      1,      1,      1,      1,      1,      1,      1,      1,\n",
       "              1,      1,      1,      1,      1,      1,      1,      1,      1,\n",
       "              1,      1,      1,      1,      1,      1,      1,      1,      1,\n",
       "              1,      1,      1,      1,      1,      1,      1,      1,      1,\n",
       "              1,      1,      1,      1,      1,      1,      1,      1,      1,\n",
       "              1,      1,      1,      1,      1,      1,      1,      1,      1,\n",
       "              1,      1,      1,      1,      1,      1,      1,      1,      1,\n",
       "              1,      1,      1,      1,      1,      1,      1,      1,      1,\n",
       "              1,      1,      1,      1,      1,      1,      1,      1,      1,\n",
       "              1,      1,      1,      1,      1,      1,      1,      1,      1,\n",
       "              1,      1,      1,      1,      1,      1,      1,      1,      1,\n",
       "              1,      1]),\n",
       " 'attention_mask': tensor([1, 1, 1, 1, 1, 1, 1, 1, 1, 1, 1, 1, 1, 1, 1, 1, 0, 0, 0, 0, 0, 0, 0, 0,\n",
       "         0, 0, 0, 0, 0, 0, 0, 0, 0, 0, 0, 0, 0, 0, 0, 0, 0, 0, 0, 0, 0, 0, 0, 0,\n",
       "         0, 0, 0, 0, 0, 0, 0, 0, 0, 0, 0, 0, 0, 0, 0, 0, 0, 0, 0, 0, 0, 0, 0, 0,\n",
       "         0, 0, 0, 0, 0, 0, 0, 0, 0, 0, 0, 0, 0, 0, 0, 0, 0, 0, 0, 0, 0, 0, 0, 0,\n",
       "         0, 0, 0, 0, 0, 0, 0, 0, 0, 0, 0, 0, 0, 0, 0, 0, 0, 0, 0, 0, 0, 0, 0, 0,\n",
       "         0, 0, 0, 0, 0, 0, 0, 0]),\n",
       " 'labels': tensor(1)}"
      ]
     },
     "execution_count": 6,
     "metadata": {},
     "output_type": "execute_result"
    }
   ],
   "source": [
    "dataset.__getitem__(2)"
   ]
  },
  {
   "cell_type": "code",
   "execution_count": 7,
   "id": "1890eba2",
   "metadata": {},
   "outputs": [],
   "source": [
    "class SentimentClassifier(nn.Module):\n",
    "    def __init__(self, model):\n",
    "        super(SentimentClassifier, self).__init__()\n",
    "        self.model = model\n",
    "        self.dropout = nn.Dropout(0.3)\n",
    "        self.linear = nn.Linear(self.model.config.hidden_size, 2)\n",
    "\n",
    "    def forward(self, input_ids, attention_mask):\n",
    "        outputs = self.model(input_ids = input_ids, attention_mask = attention_mask)\n",
    "        cls_output = outputs.last_hidden_state[:, 0, :]\n",
    "        dropout_output = self.dropout(cls_output)\n",
    "        return self.linear(dropout_output)"
   ]
  },
  {
   "cell_type": "code",
   "execution_count": 14,
   "id": "2fb65995",
   "metadata": {},
   "outputs": [],
   "source": [
    "def train_model(model, optimizer, criterion, train_loader, test_loader, epochs, lang):\n",
    "\n",
    "    for epoch in range(epochs):\n",
    "        print(f\"\\nEpoch {epoch+1}/{epochs}\")\n",
    "        model.train()\n",
    "        y_true_train = []\n",
    "        y_pred_train = []\n",
    "        train_loss = 0\n",
    "\n",
    "        for batch in tqdm(train_loader, leave=False, desc=\"Training\"):\n",
    "            ids = batch[\"ids\"].to(device)\n",
    "            mask = batch[\"attention_mask\"].to(device)\n",
    "            labels = batch[\"labels\"].to(device)\n",
    "\n",
    "            optimizer.zero_grad()\n",
    "            outputs = model(ids, mask)\n",
    "            loss = criterion(outputs, labels)\n",
    "            loss.backward()\n",
    "            optimizer.step()\n",
    "\n",
    "            train_loss += loss.item()\n",
    "            preds = torch.argmax(outputs, dim=1)\n",
    "            y_pred_train.extend(preds.cpu().numpy())\n",
    "            y_true_train.extend(labels.cpu().numpy())\n",
    "\n",
    "        avg_train_loss = train_loss / len(train_loader)\n",
    "        train_acc = accuracy_score(y_true_train, y_pred_train)\n",
    "        print(f\"Train loss: {avg_train_loss:.4f} | Train accuracy: {train_acc:.4f}\")\n",
    "\n",
    "        model.eval()\n",
    "        y_true = []\n",
    "        y_pred = []\n",
    "        test_loss = 0.0\n",
    "\n",
    "        with torch.no_grad():\n",
    "            for batch in tqdm(test_loader, leave=False, desc=\"Evaluating\"):\n",
    "                ids = batch[\"ids\"].to(device)\n",
    "                mask = batch[\"attention_mask\"].to(device)\n",
    "                labels = batch[\"labels\"].to(device)\n",
    "\n",
    "                outputs = model(ids, mask)\n",
    "                loss = criterion(outputs, labels)\n",
    "                test_loss += loss.item()\n",
    "\n",
    "                preds = torch.argmax(outputs, dim=1)\n",
    "                y_pred.extend(preds.cpu().numpy())\n",
    "                y_true.extend(labels.cpu().numpy())\n",
    "\n",
    "        avg_test_loss = test_loss / len(test_loader)\n",
    "        test_acc = accuracy_score(y_true, y_pred)\n",
    "        print(f\"Test loss: {avg_test_loss:.4f} | Test accuracy: {test_acc:.4f}\")\n",
    "\n",
    "        torch.save(model.state_dict(), f\"../../model/{lang}_fine_tune_classifier_{epoch}.pt\")"
   ]
  },
  {
   "cell_type": "code",
   "execution_count": 9,
   "id": "959fc373",
   "metadata": {},
   "outputs": [],
   "source": [
    "def run_model(model, optimizer, criterion, language, df, max_length, epochs):\n",
    "    print(f\"\\n{'-'*40} {language} {'-'*40}\")\n",
    "    lang_map = {\n",
    "        \"English\": \"en\",\n",
    "        \"Korean\": \"ko\",\n",
    "        \"English + Korean\": \"both\",\n",
    "    }\n",
    "\n",
    "    X_train, X_test, y_train, y_test = train_test_split(df[\"Comment\"], df[\"Sentiment\"], test_size=0.2, random_state=42)\n",
    "    train_ds = SentimentDataset(X_train.tolist(), y_train.tolist(), tokenizer, max_length)\n",
    "    test_ds = SentimentDataset(X_test.tolist(), y_test.tolist(), tokenizer, max_length)\n",
    "\n",
    "    train_loader = DataLoader(train_ds, batch_size=16, shuffle=True)\n",
    "    test_loader = DataLoader(test_ds, batch_size=16)\n",
    "\n",
    "    train_model(model, optimizer, criterion, train_loader, test_loader, epochs, lang_map[language])"
   ]
  },
  {
   "cell_type": "code",
   "execution_count": 13,
   "id": "3925e625",
   "metadata": {},
   "outputs": [],
   "source": [
    "EPOCHS = 2\n",
    "LEARNING_RATE = 2e-5\n",
    "MAX_LENGTH = 128\n",
    "\n",
    "\n",
    "def prepare_model():\n",
    "    model = SentimentClassifier(XLMRobertaModel.from_pretrained(\"xlm-roberta-base\"))\n",
    "    model.to(device)\n",
    "    optimizer = AdamW(model.parameters(), lr=LEARNING_RATE)\n",
    "    criterion = nn.CrossEntropyLoss()\n",
    "    return model, optimizer, criterion"
   ]
  },
  {
   "cell_type": "code",
   "execution_count": 15,
   "id": "e7d817ed",
   "metadata": {},
   "outputs": [
    {
     "name": "stdout",
     "output_type": "stream",
     "text": [
      "\n",
      "---------------------------------------- English + Korean ----------------------------------------\n",
      "\n",
      "Epoch 1/2\n"
     ]
    },
    {
     "name": "stderr",
     "output_type": "stream",
     "text": [
      "                                                                     \r"
     ]
    },
    {
     "name": "stdout",
     "output_type": "stream",
     "text": [
      "Train loss: 0.2614 | Train accuracy: 0.8882\n"
     ]
    },
    {
     "name": "stderr",
     "output_type": "stream",
     "text": [
      "                                                                     \r"
     ]
    },
    {
     "name": "stdout",
     "output_type": "stream",
     "text": [
      "Test loss: 0.2103 | Test accuracy: 0.9111\n",
      "\n",
      "Epoch 2/2\n"
     ]
    },
    {
     "name": "stderr",
     "output_type": "stream",
     "text": [
      "                                                                   \r"
     ]
    },
    {
     "name": "stdout",
     "output_type": "stream",
     "text": [
      "Train loss: 0.1949 | Train accuracy: 0.9201\n"
     ]
    },
    {
     "name": "stderr",
     "output_type": "stream",
     "text": [
      "                                                               \r"
     ]
    },
    {
     "name": "stdout",
     "output_type": "stream",
     "text": [
      "Test loss: 0.2090 | Test accuracy: 0.9143\n"
     ]
    }
   ],
   "source": [
    "# Combined\n",
    "model, optimizer, criterion = prepare_model()\n",
    "run_model(model, optimizer, criterion, \"English + Korean\", df, MAX_LENGTH, EPOCHS)"
   ]
  },
  {
   "cell_type": "code",
   "execution_count": null,
   "id": "8ae57d07",
   "metadata": {},
   "outputs": [],
   "source": [
    "# English only\n",
    "df_en = df[df[\"language\"] == \"en\"]\n",
    "model, optimizer, criterion = prepare_model()\n",
    "run_model(model, optimizer, criterion, \"English\", df_en, MAX_LENGTH, EPOCHS)"
   ]
  },
  {
   "cell_type": "code",
   "execution_count": null,
   "id": "fbbb425a",
   "metadata": {},
   "outputs": [],
   "source": [
    "# Korean only\n",
    "df_ko = df[df[\"language\"] == \"ko\"]\n",
    "model, optimizer, criterion = prepare_model()\n",
    "run_model(model, optimizer, criterion, \"Korean\", df_ko, MAX_LENGTH, EPOCHS)"
   ]
  },
  {
   "cell_type": "code",
   "execution_count": null,
   "id": "f2498d0b",
   "metadata": {},
   "outputs": [],
   "source": []
  }
 ],
 "metadata": {
  "kernelspec": {
   "display_name": "venv",
   "language": "python",
   "name": "python3"
  },
  "language_info": {
   "codemirror_mode": {
    "name": "ipython",
    "version": 3
   },
   "file_extension": ".py",
   "mimetype": "text/x-python",
   "name": "python",
   "nbconvert_exporter": "python",
   "pygments_lexer": "ipython3",
   "version": "3.12.6"
  }
 },
 "nbformat": 4,
 "nbformat_minor": 5
}
