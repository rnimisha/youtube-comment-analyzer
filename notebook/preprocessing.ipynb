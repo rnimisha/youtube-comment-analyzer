{
 "cells": [
  {
   "cell_type": "markdown",
   "id": "bb2d5269",
   "metadata": {},
   "source": [
    "### Import Libraries"
   ]
  },
  {
   "cell_type": "code",
   "execution_count": 10,
   "id": "94e8d8b8",
   "metadata": {},
   "outputs": [],
   "source": [
    "import re\n",
    "import string\n",
    "import emoji\n",
    "import nltk\n",
    "import pandas as pd\n",
    "from nltk.corpus import stopwords\n",
    "from nltk.stem import PorterStemmer\n",
    "from kiwipiepy import Kiwi\n",
    "from sklearn.utils import shuffle"
   ]
  },
  {
   "cell_type": "code",
   "execution_count": 2,
   "id": "9e399272",
   "metadata": {},
   "outputs": [
    {
     "name": "stderr",
     "output_type": "stream",
     "text": [
      "[nltk_data] Downloading package stopwords to\n",
      "[nltk_data]     /Users/nimisha/nltk_data...\n",
      "[nltk_data]   Package stopwords is already up-to-date!\n",
      "[nltk_data] Downloading package punkt to /Users/nimisha/nltk_data...\n",
      "[nltk_data]   Package punkt is already up-to-date!\n"
     ]
    }
   ],
   "source": [
    "nltk.download(\"stopwords\")\n",
    "nltk.download(\"punkt\")\n",
    "kiwi = Kiwi()\n",
    "stemmer = PorterStemmer()"
   ]
  },
  {
   "cell_type": "code",
   "execution_count": 3,
   "id": "41f71f6d",
   "metadata": {},
   "outputs": [],
   "source": [
    "stopwords_en = set(stopwords.words(\"english\"))\n",
    "stopwords_kr = ['도', '는', '다', '의', '가', '이', '은', '한', '에', '하', '고', '을', '를', '인', '듯', '과', '와', '네', '들', '듯', '지', '임', '게']"
   ]
  },
  {
   "cell_type": "markdown",
   "id": "1e3e4e8c",
   "metadata": {},
   "source": [
    "## Load Dataset"
   ]
  },
  {
   "cell_type": "code",
   "execution_count": 4,
   "id": "39542f3e",
   "metadata": {},
   "outputs": [],
   "source": [
    "df_en = pd.read_csv(\"../data/english_only_data.csv\")\n",
    "df_ko = pd.read_csv(\"../data/korean_only_data.csv\")"
   ]
  },
  {
   "cell_type": "code",
   "execution_count": 5,
   "id": "1f03489a",
   "metadata": {},
   "outputs": [
    {
     "data": {
      "text/html": [
       "<div>\n",
       "<style scoped>\n",
       "    .dataframe tbody tr th:only-of-type {\n",
       "        vertical-align: middle;\n",
       "    }\n",
       "\n",
       "    .dataframe tbody tr th {\n",
       "        vertical-align: top;\n",
       "    }\n",
       "\n",
       "    .dataframe thead th {\n",
       "        text-align: right;\n",
       "    }\n",
       "</style>\n",
       "<table border=\"1\" class=\"dataframe\">\n",
       "  <thead>\n",
       "    <tr style=\"text-align: right;\">\n",
       "      <th></th>\n",
       "      <th>Comment</th>\n",
       "      <th>Sentiment</th>\n",
       "      <th>language</th>\n",
       "    </tr>\n",
       "  </thead>\n",
       "  <tbody>\n",
       "    <tr>\n",
       "      <th>133506</th>\n",
       "      <td>맛있고 분위기도 좋아요! 야외에서도 식사 가능해서 날씨 좋으면 더 좋아요</td>\n",
       "      <td>positive</td>\n",
       "      <td>ko</td>\n",
       "    </tr>\n",
       "    <tr>\n",
       "      <th>189273</th>\n",
       "      <td>어느 수산시장에서나 나오면 먹을 수 있는 민어.의 맛집  서비스 업종 역사상 최악 ...</td>\n",
       "      <td>negative</td>\n",
       "      <td>ko</td>\n",
       "    </tr>\n",
       "    <tr>\n",
       "      <th>2925</th>\n",
       "      <td>wow wow! what a funky little fleet!!! too sassy</td>\n",
       "      <td>Positive</td>\n",
       "      <td>en</td>\n",
       "    </tr>\n",
       "    <tr>\n",
       "      <th>41958</th>\n",
       "      <td>The invention original purpose is the most Bri...</td>\n",
       "      <td>Positive</td>\n",
       "      <td>en</td>\n",
       "    </tr>\n",
       "    <tr>\n",
       "      <th>104357</th>\n",
       "      <td>양도 푸짐하고 소스 모자라면 리필도 가능해서 좋아요. 한 명이 먹기에는 좀 많은 양...</td>\n",
       "      <td>positive</td>\n",
       "      <td>ko</td>\n",
       "    </tr>\n",
       "    <tr>\n",
       "      <th>32398</th>\n",
       "      <td>I feel sorry for this guy because you can tell...</td>\n",
       "      <td>Negative</td>\n",
       "      <td>en</td>\n",
       "    </tr>\n",
       "    <tr>\n",
       "      <th>158051</th>\n",
       "      <td>맛의 고장에 이런 식당이 있는 게 불가사의함..</td>\n",
       "      <td>negative</td>\n",
       "      <td>ko</td>\n",
       "    </tr>\n",
       "    <tr>\n",
       "      <th>81396</th>\n",
       "      <td>I've never heard someone talk so beautifully a...</td>\n",
       "      <td>Positive</td>\n",
       "      <td>en</td>\n",
       "    </tr>\n",
       "    <tr>\n",
       "      <th>156946</th>\n",
       "      <td>평점 0점은 왜 없는 거죠... 맛 집이라 해서 꾸불꾸불 산길을 비포장도로 따라 내...</td>\n",
       "      <td>negative</td>\n",
       "      <td>ko</td>\n",
       "    </tr>\n",
       "    <tr>\n",
       "      <th>108275</th>\n",
       "      <td>솔직히 별 하나도 아깝네요. 팥빙수라고 시켰는데 우유도 아니고 연유로 범벅을 해 가...</td>\n",
       "      <td>negative</td>\n",
       "      <td>ko</td>\n",
       "    </tr>\n",
       "  </tbody>\n",
       "</table>\n",
       "</div>"
      ],
      "text/plain": [
       "                                                  Comment Sentiment language\n",
       "133506           맛있고 분위기도 좋아요! 야외에서도 식사 가능해서 날씨 좋으면 더 좋아요  positive       ko\n",
       "189273  어느 수산시장에서나 나오면 먹을 수 있는 민어.의 맛집  서비스 업종 역사상 최악 ...  negative       ko\n",
       "2925      wow wow! what a funky little fleet!!! too sassy  Positive       en\n",
       "41958   The invention original purpose is the most Bri...  Positive       en\n",
       "104357  양도 푸짐하고 소스 모자라면 리필도 가능해서 좋아요. 한 명이 먹기에는 좀 많은 양...  positive       ko\n",
       "32398   I feel sorry for this guy because you can tell...  Negative       en\n",
       "158051                         맛의 고장에 이런 식당이 있는 게 불가사의함..  negative       ko\n",
       "81396   I've never heard someone talk so beautifully a...  Positive       en\n",
       "156946  평점 0점은 왜 없는 거죠... 맛 집이라 해서 꾸불꾸불 산길을 비포장도로 따라 내...  negative       ko\n",
       "108275  솔직히 별 하나도 아깝네요. 팥빙수라고 시켰는데 우유도 아니고 연유로 범벅을 해 가...  negative       ko"
      ]
     },
     "execution_count": 5,
     "metadata": {},
     "output_type": "execute_result"
    }
   ],
   "source": [
    "df_en[\"language\"] = \"en\"\n",
    "df_ko[\"language\"] = \"ko\"\n",
    "\n",
    "df = pd.concat([df_en, df_ko], ignore_index=True)\n",
    "df = shuffle(df, random_state=70)\n",
    "df.head(10)"
   ]
  },
  {
   "cell_type": "code",
   "execution_count": 6,
   "id": "793e32ee",
   "metadata": {},
   "outputs": [
    {
     "data": {
      "text/plain": [
       "0"
      ]
     },
     "execution_count": 6,
     "metadata": {},
     "output_type": "execute_result"
    }
   ],
   "source": [
    "df[\"Comment\"].isnull().sum()"
   ]
  },
  {
   "cell_type": "code",
   "execution_count": 7,
   "id": "a00d3f59",
   "metadata": {},
   "outputs": [
    {
     "data": {
      "text/plain": [
       "Sentiment\n",
       "positive    100000\n",
       "negative    100000\n",
       "Name: count, dtype: int64"
      ]
     },
     "execution_count": 7,
     "metadata": {},
     "output_type": "execute_result"
    }
   ],
   "source": [
    "df[\"Sentiment\"] = df[\"Sentiment\"].replace({\"Negative\": \"negative\", \"Positive\": \"positive\"})\n",
    "df[\"Sentiment\"].value_counts()"
   ]
  },
  {
   "cell_type": "code",
   "execution_count": 8,
   "id": "bac01fc8",
   "metadata": {},
   "outputs": [
    {
     "name": "stderr",
     "output_type": "stream",
     "text": [
      "/var/folders/06/m9zqwbpx0xv34f89bzg3s27c0000gn/T/ipykernel_49313/4115779967.py:1: FutureWarning: Downcasting behavior in `replace` is deprecated and will be removed in a future version. To retain the old behavior, explicitly call `result.infer_objects(copy=False)`. To opt-in to the future behavior, set `pd.set_option('future.no_silent_downcasting', True)`\n",
      "  df[\"Sentiment\"] = df[\"Sentiment\"].replace({\"negative\": 0, \"positive\": 1})\n"
     ]
    },
    {
     "data": {
      "text/plain": [
       "Sentiment\n",
       "1    100000\n",
       "0    100000\n",
       "Name: count, dtype: int64"
      ]
     },
     "execution_count": 8,
     "metadata": {},
     "output_type": "execute_result"
    }
   ],
   "source": [
    "df[\"Sentiment\"] = df[\"Sentiment\"].replace({\"negative\": 0, \"positive\": 1})\n",
    "df[\"Sentiment\"].value_counts()"
   ]
  },
  {
   "cell_type": "markdown",
   "id": "fa4654ae",
   "metadata": {},
   "source": [
    "### Traditional Preprocessing"
   ]
  },
  {
   "cell_type": "code",
   "execution_count": null,
   "id": "56b2f7d4",
   "metadata": {},
   "outputs": [],
   "source": [
    "def preprocess_for_traditional(text, language):\n",
    "    text = emoji.demojize(text) \n",
    "    text = text.lower()\n",
    "\n",
    "    text = re.sub(r\"[^a-zA-Z0-9가-힣\\s]\", \"\", text)\n",
    "\n",
    "    if language == \"en\":\n",
    "        tokens = nltk.word_tokenize(text, language=\"english\", preserve_line=True)\n",
    "        tokens = [stemmer.stem(t) for t in tokens if t not in stopwords_en] \n",
    "    elif language == \"ko\":\n",
    "        tokens = [word.form for word in kiwi.tokenize(text)]\n",
    "        tokens = [stemmer.stem(t) for t in tokens if t not in stopwords_kr]\n",
    "\n",
    "    return \" \".join(tokens)"
   ]
  },
  {
   "cell_type": "code",
   "execution_count": 12,
   "id": "78afc4e6",
   "metadata": {},
   "outputs": [],
   "source": [
    "df_traditional = df.copy()\n",
    "df_traditional[\"clean_comment\"] = df_traditional.apply(\n",
    "    lambda row: preprocess_for_traditional(row[\"Comment\"], row[\"language\"]), axis=1\n",
    ")"
   ]
  },
  {
   "cell_type": "code",
   "execution_count": 13,
   "id": "3bb6ed1c",
   "metadata": {},
   "outputs": [
    {
     "data": {
      "text/html": [
       "<div>\n",
       "<style scoped>\n",
       "    .dataframe tbody tr th:only-of-type {\n",
       "        vertical-align: middle;\n",
       "    }\n",
       "\n",
       "    .dataframe tbody tr th {\n",
       "        vertical-align: top;\n",
       "    }\n",
       "\n",
       "    .dataframe thead th {\n",
       "        text-align: right;\n",
       "    }\n",
       "</style>\n",
       "<table border=\"1\" class=\"dataframe\">\n",
       "  <thead>\n",
       "    <tr style=\"text-align: right;\">\n",
       "      <th></th>\n",
       "      <th>Comment</th>\n",
       "      <th>Sentiment</th>\n",
       "      <th>language</th>\n",
       "      <th>clean_comment</th>\n",
       "    </tr>\n",
       "  </thead>\n",
       "  <tbody>\n",
       "    <tr>\n",
       "      <th>133506</th>\n",
       "      <td>맛있고 분위기도 좋아요! 야외에서도 식사 가능해서 날씨 좋으면 더 좋아요</td>\n",
       "      <td>1</td>\n",
       "      <td>ko</td>\n",
       "      <td>맛있 분위기 좋 어요 ! 야외 에서 식사 가능 어서 날씨 좋 으면 더 좋 어요</td>\n",
       "    </tr>\n",
       "    <tr>\n",
       "      <th>189273</th>\n",
       "      <td>어느 수산시장에서나 나오면 먹을 수 있는 민어.의 맛집  서비스 업종 역사상 최악 ...</td>\n",
       "      <td>0</td>\n",
       "      <td>ko</td>\n",
       "      <td>어느 수산 시장 에서 나 나오 면 먹 수 있 민어 . 맛집 서비스 업종 역사 상 최...</td>\n",
       "    </tr>\n",
       "    <tr>\n",
       "      <th>2925</th>\n",
       "      <td>wow wow! what a funky little fleet!!! too sassy</td>\n",
       "      <td>1</td>\n",
       "      <td>en</td>\n",
       "      <td>wow wow funki littl fleet sassi</td>\n",
       "    </tr>\n",
       "    <tr>\n",
       "      <th>41958</th>\n",
       "      <td>The invention original purpose is the most Bri...</td>\n",
       "      <td>1</td>\n",
       "      <td>en</td>\n",
       "      <td>invent origin purpos british thing ever saw today</td>\n",
       "    </tr>\n",
       "    <tr>\n",
       "      <th>104357</th>\n",
       "      <td>양도 푸짐하고 소스 모자라면 리필도 가능해서 좋아요. 한 명이 먹기에는 좀 많은 양...</td>\n",
       "      <td>1</td>\n",
       "      <td>ko</td>\n",
       "      <td>양 푸짐 소스 모자라 면 리필 가능 어서 좋 어요 . 명 먹 기 좀 많 양 나 먹 ...</td>\n",
       "    </tr>\n",
       "  </tbody>\n",
       "</table>\n",
       "</div>"
      ],
      "text/plain": [
       "                                                  Comment  Sentiment language  \\\n",
       "133506           맛있고 분위기도 좋아요! 야외에서도 식사 가능해서 날씨 좋으면 더 좋아요          1       ko   \n",
       "189273  어느 수산시장에서나 나오면 먹을 수 있는 민어.의 맛집  서비스 업종 역사상 최악 ...          0       ko   \n",
       "2925      wow wow! what a funky little fleet!!! too sassy          1       en   \n",
       "41958   The invention original purpose is the most Bri...          1       en   \n",
       "104357  양도 푸짐하고 소스 모자라면 리필도 가능해서 좋아요. 한 명이 먹기에는 좀 많은 양...          1       ko   \n",
       "\n",
       "                                            clean_comment  \n",
       "133506        맛있 분위기 좋 어요 ! 야외 에서 식사 가능 어서 날씨 좋 으면 더 좋 어요  \n",
       "189273  어느 수산 시장 에서 나 나오 면 먹 수 있 민어 . 맛집 서비스 업종 역사 상 최...  \n",
       "2925                      wow wow funki littl fleet sassi  \n",
       "41958   invent origin purpos british thing ever saw today  \n",
       "104357  양 푸짐 소스 모자라 면 리필 가능 어서 좋 어요 . 명 먹 기 좀 많 양 나 먹 ...  "
      ]
     },
     "execution_count": 13,
     "metadata": {},
     "output_type": "execute_result"
    }
   ],
   "source": [
    "df_traditional.head()"
   ]
  },
  {
   "cell_type": "code",
   "execution_count": 14,
   "id": "9398aac7",
   "metadata": {},
   "outputs": [
    {
     "data": {
      "text/html": [
       "<div>\n",
       "<style scoped>\n",
       "    .dataframe tbody tr th:only-of-type {\n",
       "        vertical-align: middle;\n",
       "    }\n",
       "\n",
       "    .dataframe tbody tr th {\n",
       "        vertical-align: top;\n",
       "    }\n",
       "\n",
       "    .dataframe thead th {\n",
       "        text-align: right;\n",
       "    }\n",
       "</style>\n",
       "<table border=\"1\" class=\"dataframe\">\n",
       "  <thead>\n",
       "    <tr style=\"text-align: right;\">\n",
       "      <th></th>\n",
       "      <th>Comment</th>\n",
       "      <th>Sentiment</th>\n",
       "      <th>Language</th>\n",
       "    </tr>\n",
       "  </thead>\n",
       "  <tbody>\n",
       "    <tr>\n",
       "      <th>133506</th>\n",
       "      <td>맛있 분위기 좋 어요 ! 야외 에서 식사 가능 어서 날씨 좋 으면 더 좋 어요</td>\n",
       "      <td>1</td>\n",
       "      <td>ko</td>\n",
       "    </tr>\n",
       "    <tr>\n",
       "      <th>189273</th>\n",
       "      <td>어느 수산 시장 에서 나 나오 면 먹 수 있 민어 . 맛집 서비스 업종 역사 상 최...</td>\n",
       "      <td>0</td>\n",
       "      <td>ko</td>\n",
       "    </tr>\n",
       "    <tr>\n",
       "      <th>2925</th>\n",
       "      <td>wow wow funki littl fleet sassi</td>\n",
       "      <td>1</td>\n",
       "      <td>en</td>\n",
       "    </tr>\n",
       "    <tr>\n",
       "      <th>41958</th>\n",
       "      <td>invent origin purpos british thing ever saw today</td>\n",
       "      <td>1</td>\n",
       "      <td>en</td>\n",
       "    </tr>\n",
       "    <tr>\n",
       "      <th>104357</th>\n",
       "      <td>양 푸짐 소스 모자라 면 리필 가능 어서 좋 어요 . 명 먹 기 좀 많 양 나 먹 ...</td>\n",
       "      <td>1</td>\n",
       "      <td>ko</td>\n",
       "    </tr>\n",
       "  </tbody>\n",
       "</table>\n",
       "</div>"
      ],
      "text/plain": [
       "                                                  Comment  Sentiment Language\n",
       "133506        맛있 분위기 좋 어요 ! 야외 에서 식사 가능 어서 날씨 좋 으면 더 좋 어요          1       ko\n",
       "189273  어느 수산 시장 에서 나 나오 면 먹 수 있 민어 . 맛집 서비스 업종 역사 상 최...          0       ko\n",
       "2925                      wow wow funki littl fleet sassi          1       en\n",
       "41958   invent origin purpos british thing ever saw today          1       en\n",
       "104357  양 푸짐 소스 모자라 면 리필 가능 어서 좋 어요 . 명 먹 기 좀 많 양 나 먹 ...          1       ko"
      ]
     },
     "execution_count": 14,
     "metadata": {},
     "output_type": "execute_result"
    }
   ],
   "source": [
    "df_traditional = df_traditional[[\"clean_comment\", \"Sentiment\", \"language\"]]\n",
    "df_traditional.rename(\n",
    "    columns={\"clean_comment\": \"Comment\", \"language\": \"Language\"}, inplace=True\n",
    ")\n",
    "df_traditional.head()"
   ]
  },
  {
   "cell_type": "code",
   "execution_count": 15,
   "id": "e9f28cf9",
   "metadata": {},
   "outputs": [],
   "source": [
    "df_traditional.to_csv(\"../data/traditional_preprocessed_data.csv\", index=False)"
   ]
  },
  {
   "cell_type": "markdown",
   "id": "611ef428",
   "metadata": {},
   "source": [
    "### Preprocessing for Word2Vec"
   ]
  },
  {
   "cell_type": "code",
   "execution_count": null,
   "id": "3b525f1d",
   "metadata": {},
   "outputs": [],
   "source": [
    "def preprocess_for_word_embedding(text, language):\n",
    "    text = emoji.replace_emoji(text, replace=\"\")\n",
    "\n",
    "    text = text.lower()\n",
    "    text = re.sub(r\"[^a-zA-Z0-9가-힣\\s]\", \"\", text)\n",
    "\n",
    "    if language == \"en\":\n",
    "        tokens = nltk.word_tokenize(text, language=\"english\", preserve_line=True)\n",
    "        tokens = [t for t in tokens if t not in stopwords_en]\n",
    "    elif language == \"ko\":\n",
    "        tokens = [word.form for word in kiwi.tokenize(text)]\n",
    "        tokens = [t for t in tokens if t not in stopwords_kr]\n",
    "\n",
    "    return tokens"
   ]
  },
  {
   "cell_type": "code",
   "execution_count": 19,
   "id": "b82c32eb",
   "metadata": {},
   "outputs": [],
   "source": [
    "df_word_embedding = df.copy()\n",
    "df_word_embedding[\"clean_comment\"] = df_word_embedding.apply(\n",
    "    lambda row: preprocess_for_word_embedding(row[\"Comment\"], row[\"language\"]), axis=1\n",
    ")"
   ]
  },
  {
   "cell_type": "code",
   "execution_count": 16,
   "id": "e76c656c",
   "metadata": {},
   "outputs": [
    {
     "data": {
      "text/html": [
       "<div>\n",
       "<style scoped>\n",
       "    .dataframe tbody tr th:only-of-type {\n",
       "        vertical-align: middle;\n",
       "    }\n",
       "\n",
       "    .dataframe tbody tr th {\n",
       "        vertical-align: top;\n",
       "    }\n",
       "\n",
       "    .dataframe thead th {\n",
       "        text-align: right;\n",
       "    }\n",
       "</style>\n",
       "<table border=\"1\" class=\"dataframe\">\n",
       "  <thead>\n",
       "    <tr style=\"text-align: right;\">\n",
       "      <th></th>\n",
       "      <th>Comment</th>\n",
       "      <th>Sentiment</th>\n",
       "      <th>language</th>\n",
       "      <th>clean_comment</th>\n",
       "    </tr>\n",
       "  </thead>\n",
       "  <tbody>\n",
       "    <tr>\n",
       "      <th>133506</th>\n",
       "      <td>맛있고 분위기도 좋아요! 야외에서도 식사 가능해서 날씨 좋으면 더 좋아요</td>\n",
       "      <td>1</td>\n",
       "      <td>ko</td>\n",
       "      <td>[맛있, 분위기, 좋, 어요, 야외, 에서, 식사, 가능, 어서, 날씨, 좋, 으면...</td>\n",
       "    </tr>\n",
       "    <tr>\n",
       "      <th>189273</th>\n",
       "      <td>어느 수산시장에서나 나오면 먹을 수 있는 민어.의 맛집  서비스 업종 역사상 최악 ...</td>\n",
       "      <td>0</td>\n",
       "      <td>ko</td>\n",
       "      <td>[어느, 수산, 시장, 에서, 나, 나오, 면, 먹, 수, 있, 민어, 맛집, 서비...</td>\n",
       "    </tr>\n",
       "    <tr>\n",
       "      <th>2925</th>\n",
       "      <td>wow wow! what a funky little fleet!!! too sassy</td>\n",
       "      <td>1</td>\n",
       "      <td>en</td>\n",
       "      <td>[wow, wow, funky, little, fleet, sassy]</td>\n",
       "    </tr>\n",
       "    <tr>\n",
       "      <th>41958</th>\n",
       "      <td>The invention original purpose is the most Bri...</td>\n",
       "      <td>1</td>\n",
       "      <td>en</td>\n",
       "      <td>[invention, original, purpose, british, thing,...</td>\n",
       "    </tr>\n",
       "    <tr>\n",
       "      <th>104357</th>\n",
       "      <td>양도 푸짐하고 소스 모자라면 리필도 가능해서 좋아요. 한 명이 먹기에는 좀 많은 양...</td>\n",
       "      <td>1</td>\n",
       "      <td>ko</td>\n",
       "      <td>[양, 푸짐, 소스, 모자라, 면, 리필, 가능, 어서, 좋, 어요, 명, 먹, 기...</td>\n",
       "    </tr>\n",
       "  </tbody>\n",
       "</table>\n",
       "</div>"
      ],
      "text/plain": [
       "                                                  Comment  Sentiment language  \\\n",
       "133506           맛있고 분위기도 좋아요! 야외에서도 식사 가능해서 날씨 좋으면 더 좋아요          1       ko   \n",
       "189273  어느 수산시장에서나 나오면 먹을 수 있는 민어.의 맛집  서비스 업종 역사상 최악 ...          0       ko   \n",
       "2925      wow wow! what a funky little fleet!!! too sassy          1       en   \n",
       "41958   The invention original purpose is the most Bri...          1       en   \n",
       "104357  양도 푸짐하고 소스 모자라면 리필도 가능해서 좋아요. 한 명이 먹기에는 좀 많은 양...          1       ko   \n",
       "\n",
       "                                            clean_comment  \n",
       "133506  [맛있, 분위기, 좋, 어요, 야외, 에서, 식사, 가능, 어서, 날씨, 좋, 으면...  \n",
       "189273  [어느, 수산, 시장, 에서, 나, 나오, 면, 먹, 수, 있, 민어, 맛집, 서비...  \n",
       "2925              [wow, wow, funky, little, fleet, sassy]  \n",
       "41958   [invention, original, purpose, british, thing,...  \n",
       "104357  [양, 푸짐, 소스, 모자라, 면, 리필, 가능, 어서, 좋, 어요, 명, 먹, 기...  "
      ]
     },
     "execution_count": 16,
     "metadata": {},
     "output_type": "execute_result"
    }
   ],
   "source": [
    "df_word_embedding.head()"
   ]
  },
  {
   "cell_type": "code",
   "execution_count": 17,
   "id": "2c73da33",
   "metadata": {},
   "outputs": [
    {
     "data": {
      "text/html": [
       "<div>\n",
       "<style scoped>\n",
       "    .dataframe tbody tr th:only-of-type {\n",
       "        vertical-align: middle;\n",
       "    }\n",
       "\n",
       "    .dataframe tbody tr th {\n",
       "        vertical-align: top;\n",
       "    }\n",
       "\n",
       "    .dataframe thead th {\n",
       "        text-align: right;\n",
       "    }\n",
       "</style>\n",
       "<table border=\"1\" class=\"dataframe\">\n",
       "  <thead>\n",
       "    <tr style=\"text-align: right;\">\n",
       "      <th></th>\n",
       "      <th>Comment</th>\n",
       "      <th>Sentiment</th>\n",
       "      <th>Language</th>\n",
       "    </tr>\n",
       "  </thead>\n",
       "  <tbody>\n",
       "    <tr>\n",
       "      <th>133506</th>\n",
       "      <td>[맛있, 분위기, 좋, 어요, 야외, 에서, 식사, 가능, 어서, 날씨, 좋, 으면...</td>\n",
       "      <td>1</td>\n",
       "      <td>ko</td>\n",
       "    </tr>\n",
       "    <tr>\n",
       "      <th>189273</th>\n",
       "      <td>[어느, 수산, 시장, 에서, 나, 나오, 면, 먹, 수, 있, 민어, 맛집, 서비...</td>\n",
       "      <td>0</td>\n",
       "      <td>ko</td>\n",
       "    </tr>\n",
       "    <tr>\n",
       "      <th>2925</th>\n",
       "      <td>[wow, wow, funky, little, fleet, sassy]</td>\n",
       "      <td>1</td>\n",
       "      <td>en</td>\n",
       "    </tr>\n",
       "    <tr>\n",
       "      <th>41958</th>\n",
       "      <td>[invention, original, purpose, british, thing,...</td>\n",
       "      <td>1</td>\n",
       "      <td>en</td>\n",
       "    </tr>\n",
       "    <tr>\n",
       "      <th>104357</th>\n",
       "      <td>[양, 푸짐, 소스, 모자라, 면, 리필, 가능, 어서, 좋, 어요, 명, 먹, 기...</td>\n",
       "      <td>1</td>\n",
       "      <td>ko</td>\n",
       "    </tr>\n",
       "  </tbody>\n",
       "</table>\n",
       "</div>"
      ],
      "text/plain": [
       "                                                  Comment  Sentiment Language\n",
       "133506  [맛있, 분위기, 좋, 어요, 야외, 에서, 식사, 가능, 어서, 날씨, 좋, 으면...          1       ko\n",
       "189273  [어느, 수산, 시장, 에서, 나, 나오, 면, 먹, 수, 있, 민어, 맛집, 서비...          0       ko\n",
       "2925              [wow, wow, funky, little, fleet, sassy]          1       en\n",
       "41958   [invention, original, purpose, british, thing,...          1       en\n",
       "104357  [양, 푸짐, 소스, 모자라, 면, 리필, 가능, 어서, 좋, 어요, 명, 먹, 기...          1       ko"
      ]
     },
     "execution_count": 17,
     "metadata": {},
     "output_type": "execute_result"
    }
   ],
   "source": [
    "df_word_embedding = df_word_embedding[[\"clean_comment\", \"Sentiment\", \"language\"]]\n",
    "df_word_embedding.rename(\n",
    "    columns={\"clean_comment\": \"Comment\", \"language\": \"Language\"}, inplace=True\n",
    ")\n",
    "df_word_embedding.head()"
   ]
  },
  {
   "cell_type": "code",
   "execution_count": 18,
   "id": "14cd7b8e",
   "metadata": {},
   "outputs": [],
   "source": [
    "df_word_embedding.to_csv(\"../data/embedding_preprocessed_data.csv\", index=False)"
   ]
  },
  {
   "cell_type": "code",
   "execution_count": null,
   "id": "727a266c",
   "metadata": {},
   "outputs": [],
   "source": []
  }
 ],
 "metadata": {
  "kernelspec": {
   "display_name": "venv",
   "language": "python",
   "name": "python3"
  },
  "language_info": {
   "codemirror_mode": {
    "name": "ipython",
    "version": 3
   },
   "file_extension": ".py",
   "mimetype": "text/x-python",
   "name": "python",
   "nbconvert_exporter": "python",
   "pygments_lexer": "ipython3",
   "version": "3.12.6"
  }
 },
 "nbformat": 4,
 "nbformat_minor": 5
}
