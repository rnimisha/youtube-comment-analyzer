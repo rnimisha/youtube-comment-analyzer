{
 "cells": [
  {
   "cell_type": "markdown",
   "id": "bb2d5269",
   "metadata": {},
   "source": [
    "### Import Libraries"
   ]
  },
  {
   "cell_type": "code",
   "execution_count": 18,
   "id": "94e8d8b8",
   "metadata": {},
   "outputs": [],
   "source": [
    "import re\n",
    "import emoji\n",
    "import nltk\n",
    "import pandas as pd\n",
    "from nltk.corpus import stopwords\n",
    "from nltk.stem import PorterStemmer\n",
    "from kiwipiepy import Kiwi\n",
    "from sklearn.utils import shuffle"
   ]
  },
  {
   "cell_type": "code",
   "execution_count": 19,
   "id": "9e399272",
   "metadata": {},
   "outputs": [
    {
     "name": "stderr",
     "output_type": "stream",
     "text": [
      "[nltk_data] Downloading package stopwords to\n",
      "[nltk_data]     /Users/nimisha/nltk_data...\n",
      "[nltk_data]   Package stopwords is already up-to-date!\n",
      "[nltk_data] Downloading package punkt to /Users/nimisha/nltk_data...\n",
      "[nltk_data]   Package punkt is already up-to-date!\n"
     ]
    }
   ],
   "source": [
    "nltk.download(\"stopwords\")\n",
    "nltk.download(\"punkt\")\n",
    "kiwi = Kiwi()\n",
    "stemmer = PorterStemmer()"
   ]
  },
  {
   "cell_type": "code",
   "execution_count": 20,
   "id": "41f71f6d",
   "metadata": {},
   "outputs": [],
   "source": [
    "stopwords_en = set(stopwords.words(\"english\"))\n",
    "stopwords_kr = ['도', '는', '다', '의', '가', '이', '은', '한', '에', '하', '고', '을', '를', '인', '듯', '과', '와', '네', '들', '듯', '지', '임', '게']"
   ]
  },
  {
   "cell_type": "markdown",
   "id": "1e3e4e8c",
   "metadata": {},
   "source": [
    "## Load Dataset"
   ]
  },
  {
   "cell_type": "code",
   "execution_count": 21,
   "id": "39542f3e",
   "metadata": {},
   "outputs": [],
   "source": [
    "df_en = pd.read_csv(\"../data/english_only_data.csv\")\n",
    "df_ko = pd.read_csv(\"../data/korean_only_data.csv\")"
   ]
  },
  {
   "cell_type": "code",
   "execution_count": 22,
   "id": "1f03489a",
   "metadata": {},
   "outputs": [
    {
     "data": {
      "text/html": [
       "<div>\n",
       "<style scoped>\n",
       "    .dataframe tbody tr th:only-of-type {\n",
       "        vertical-align: middle;\n",
       "    }\n",
       "\n",
       "    .dataframe tbody tr th {\n",
       "        vertical-align: top;\n",
       "    }\n",
       "\n",
       "    .dataframe thead th {\n",
       "        text-align: right;\n",
       "    }\n",
       "</style>\n",
       "<table border=\"1\" class=\"dataframe\">\n",
       "  <thead>\n",
       "    <tr style=\"text-align: right;\">\n",
       "      <th></th>\n",
       "      <th>Comment</th>\n",
       "      <th>Sentiment</th>\n",
       "      <th>language</th>\n",
       "    </tr>\n",
       "  </thead>\n",
       "  <tbody>\n",
       "    <tr>\n",
       "      <th>328712</th>\n",
       "      <td>They should refuse to move....  Gaza is their ...</td>\n",
       "      <td>Negative</td>\n",
       "      <td>en</td>\n",
       "    </tr>\n",
       "    <tr>\n",
       "      <th>431204</th>\n",
       "      <td>Where can I find the source code?</td>\n",
       "      <td>Negative</td>\n",
       "      <td>en</td>\n",
       "    </tr>\n",
       "    <tr>\n",
       "      <th>556515</th>\n",
       "      <td>전투의 재미도 없고 모험하는 맛도 지금에서 하기에는 타 게임에 많이 밀린다. 오직 ...</td>\n",
       "      <td>negative</td>\n",
       "      <td>ko</td>\n",
       "    </tr>\n",
       "    <tr>\n",
       "      <th>101150</th>\n",
       "      <td>Newsmax\\nReal Americas Voice \\nOne America New...</td>\n",
       "      <td>Negative</td>\n",
       "      <td>en</td>\n",
       "    </tr>\n",
       "    <tr>\n",
       "      <th>158853</th>\n",
       "      <td>Dude is doing anything and everything except t...</td>\n",
       "      <td>Negative</td>\n",
       "      <td>en</td>\n",
       "    </tr>\n",
       "    <tr>\n",
       "      <th>838334</th>\n",
       "      <td>아플 때 먹어서 좋았어요 하루 종일 토하고 나서 먹었죠 좋았습니다</td>\n",
       "      <td>positive</td>\n",
       "      <td>ko</td>\n",
       "    </tr>\n",
       "    <tr>\n",
       "      <th>665596</th>\n",
       "      <td>차돌 3갈비 1 갈비탕  사이다</td>\n",
       "      <td>positive</td>\n",
       "      <td>ko</td>\n",
       "    </tr>\n",
       "    <tr>\n",
       "      <th>131240</th>\n",
       "      <td>I'm Nigerian myself (Igbo) and I can really re...</td>\n",
       "      <td>Positive</td>\n",
       "      <td>en</td>\n",
       "    </tr>\n",
       "    <tr>\n",
       "      <th>33957</th>\n",
       "      <td>The narcissist Trump is slowly losing control ...</td>\n",
       "      <td>Negative</td>\n",
       "      <td>en</td>\n",
       "    </tr>\n",
       "    <tr>\n",
       "      <th>820871</th>\n",
       "      <td>커피 맛 괜찮아요 일행은 베이커리도 먹었는데 괜찮다고 합니다. 이 일대에서 분위기 ...</td>\n",
       "      <td>positive</td>\n",
       "      <td>ko</td>\n",
       "    </tr>\n",
       "  </tbody>\n",
       "</table>\n",
       "</div>"
      ],
      "text/plain": [
       "                                                  Comment Sentiment language\n",
       "328712  They should refuse to move....  Gaza is their ...  Negative       en\n",
       "431204                  Where can I find the source code?  Negative       en\n",
       "556515  전투의 재미도 없고 모험하는 맛도 지금에서 하기에는 타 게임에 많이 밀린다. 오직 ...  negative       ko\n",
       "101150  Newsmax\\nReal Americas Voice \\nOne America New...  Negative       en\n",
       "158853  Dude is doing anything and everything except t...  Negative       en\n",
       "838334               아플 때 먹어서 좋았어요 하루 종일 토하고 나서 먹었죠 좋았습니다  positive       ko\n",
       "665596                                  차돌 3갈비 1 갈비탕  사이다  positive       ko\n",
       "131240  I'm Nigerian myself (Igbo) and I can really re...  Positive       en\n",
       "33957   The narcissist Trump is slowly losing control ...  Negative       en\n",
       "820871  커피 맛 괜찮아요 일행은 베이커리도 먹었는데 괜찮다고 합니다. 이 일대에서 분위기 ...  positive       ko"
      ]
     },
     "execution_count": 22,
     "metadata": {},
     "output_type": "execute_result"
    }
   ],
   "source": [
    "df_en[\"language\"] = \"en\"\n",
    "df_ko[\"language\"] = \"ko\"\n",
    "\n",
    "df = pd.concat([df_en, df_ko], ignore_index=True)\n",
    "df = shuffle(df, random_state=70)\n",
    "df.head(10)"
   ]
  },
  {
   "cell_type": "code",
   "execution_count": 23,
   "id": "793e32ee",
   "metadata": {},
   "outputs": [
    {
     "data": {
      "text/plain": [
       "np.int64(0)"
      ]
     },
     "execution_count": 23,
     "metadata": {},
     "output_type": "execute_result"
    }
   ],
   "source": [
    "df[\"Comment\"].isnull().sum()"
   ]
  },
  {
   "cell_type": "code",
   "execution_count": 24,
   "id": "a00d3f59",
   "metadata": {},
   "outputs": [
    {
     "data": {
      "text/plain": [
       "Sentiment\n",
       "negative    440000\n",
       "positive    440000\n",
       "Name: count, dtype: int64"
      ]
     },
     "execution_count": 24,
     "metadata": {},
     "output_type": "execute_result"
    }
   ],
   "source": [
    "df[\"Sentiment\"] = df[\"Sentiment\"].replace({\"Negative\": \"negative\", \"Positive\": \"positive\"})\n",
    "df[\"Sentiment\"].value_counts()"
   ]
  },
  {
   "cell_type": "code",
   "execution_count": 25,
   "id": "bac01fc8",
   "metadata": {},
   "outputs": [
    {
     "data": {
      "text/plain": [
       "Sentiment\n",
       "0    440000\n",
       "1    440000\n",
       "Name: count, dtype: int64"
      ]
     },
     "execution_count": 25,
     "metadata": {},
     "output_type": "execute_result"
    }
   ],
   "source": [
    "df[\"Sentiment\"] = df[\"Sentiment\"].replace({\"negative\": 0, \"positive\": \"1\"})\n",
    "df[\"Sentiment\"].value_counts()"
   ]
  },
  {
   "cell_type": "markdown",
   "id": "fa4654ae",
   "metadata": {},
   "source": [
    "### Traditional Preprocessing"
   ]
  },
  {
   "cell_type": "code",
   "execution_count": 12,
   "id": "56b2f7d4",
   "metadata": {},
   "outputs": [],
   "source": [
    "def preprocess_for_traditional(text, language):\n",
    "    text = emoji.demojize(text) \n",
    "    text = text.lower()\n",
    "\n",
    "    text = re.sub(r\"[^a-zA-Z0-9가-힣\\s]\", \"\", text)\n",
    "\n",
    "    if language == \"en\":\n",
    "        tokens = nltk.word_tokenize(text, language=\"english\", preserve_line=True)\n",
    "        tokens = [stemmer.stem(t) for t in tokens if t not in stopwords_en] \n",
    "    elif language == \"ko\":\n",
    "        tokens = [word.form for word in kiwi.tokenize(text)]\n",
    "        tokens = [stemmer.stem(t) for t in tokens if t not in stopwords_kr]\n",
    "\n",
    "    return \" \".join(tokens)"
   ]
  },
  {
   "cell_type": "code",
   "execution_count": 13,
   "id": "78afc4e6",
   "metadata": {},
   "outputs": [],
   "source": [
    "df[\"clean_comment\"] = df.apply(\n",
    "    lambda row: preprocess_for_traditional(row[\"Comment\"], row[\"language\"]), axis=1\n",
    ")"
   ]
  },
  {
   "cell_type": "code",
   "execution_count": 14,
   "id": "3bb6ed1c",
   "metadata": {},
   "outputs": [
    {
     "data": {
      "text/html": [
       "<div>\n",
       "<style scoped>\n",
       "    .dataframe tbody tr th:only-of-type {\n",
       "        vertical-align: middle;\n",
       "    }\n",
       "\n",
       "    .dataframe tbody tr th {\n",
       "        vertical-align: top;\n",
       "    }\n",
       "\n",
       "    .dataframe thead th {\n",
       "        text-align: right;\n",
       "    }\n",
       "</style>\n",
       "<table border=\"1\" class=\"dataframe\">\n",
       "  <thead>\n",
       "    <tr style=\"text-align: right;\">\n",
       "      <th></th>\n",
       "      <th>Comment</th>\n",
       "      <th>Sentiment</th>\n",
       "      <th>language</th>\n",
       "      <th>clean_comment</th>\n",
       "    </tr>\n",
       "  </thead>\n",
       "  <tbody>\n",
       "    <tr>\n",
       "      <th>328712</th>\n",
       "      <td>They should refuse to move....  Gaza is their ...</td>\n",
       "      <td>0</td>\n",
       "      <td>en</td>\n",
       "      <td>refus move gaza home</td>\n",
       "    </tr>\n",
       "    <tr>\n",
       "      <th>431204</th>\n",
       "      <td>Where can I find the source code?</td>\n",
       "      <td>0</td>\n",
       "      <td>en</td>\n",
       "      <td>find sourc code</td>\n",
       "    </tr>\n",
       "    <tr>\n",
       "      <th>556515</th>\n",
       "      <td>전투의 재미도 없고 모험하는 맛도 지금에서 하기에는 타 게임에 많이 밀린다. 오직 ...</td>\n",
       "      <td>0</td>\n",
       "      <td>ko</td>\n",
       "      <td>전투 재미 없 모험 맛 지금 에서 기 타 게임 많이 밀리 ᆫ다 오직 퀘스트 깨 재미...</td>\n",
       "    </tr>\n",
       "    <tr>\n",
       "      <th>101150</th>\n",
       "      <td>Newsmax\\nReal Americas Voice \\nOne America New...</td>\n",
       "      <td>0</td>\n",
       "      <td>en</td>\n",
       "      <td>newsmax real america voic one america news oan...</td>\n",
       "    </tr>\n",
       "    <tr>\n",
       "      <th>158853</th>\n",
       "      <td>Dude is doing anything and everything except t...</td>\n",
       "      <td>0</td>\n",
       "      <td>en</td>\n",
       "      <td>dude anyth everyth except talk wife</td>\n",
       "    </tr>\n",
       "  </tbody>\n",
       "</table>\n",
       "</div>"
      ],
      "text/plain": [
       "                                                  Comment Sentiment language  \\\n",
       "328712  They should refuse to move....  Gaza is their ...         0       en   \n",
       "431204                  Where can I find the source code?         0       en   \n",
       "556515  전투의 재미도 없고 모험하는 맛도 지금에서 하기에는 타 게임에 많이 밀린다. 오직 ...         0       ko   \n",
       "101150  Newsmax\\nReal Americas Voice \\nOne America New...         0       en   \n",
       "158853  Dude is doing anything and everything except t...         0       en   \n",
       "\n",
       "                                            clean_comment  \n",
       "328712                               refus move gaza home  \n",
       "431204                                    find sourc code  \n",
       "556515  전투 재미 없 모험 맛 지금 에서 기 타 게임 많이 밀리 ᆫ다 오직 퀘스트 깨 재미...  \n",
       "101150  newsmax real america voic one america news oan...  \n",
       "158853                dude anyth everyth except talk wife  "
      ]
     },
     "execution_count": 14,
     "metadata": {},
     "output_type": "execute_result"
    }
   ],
   "source": [
    "df.head()"
   ]
  },
  {
   "cell_type": "code",
   "execution_count": 16,
   "id": "9398aac7",
   "metadata": {},
   "outputs": [
    {
     "name": "stderr",
     "output_type": "stream",
     "text": [
      "/var/folders/06/m9zqwbpx0xv34f89bzg3s27c0000gn/T/ipykernel_85641/3948776368.py:2: SettingWithCopyWarning: \n",
      "A value is trying to be set on a copy of a slice from a DataFrame\n",
      "\n",
      "See the caveats in the documentation: https://pandas.pydata.org/pandas-docs/stable/user_guide/indexing.html#returning-a-view-versus-a-copy\n",
      "  df.rename(columns={\"clean_comment\": \"Comment\", \"language\": \"Language\"}, inplace=True)\n"
     ]
    },
    {
     "data": {
      "text/html": [
       "<div>\n",
       "<style scoped>\n",
       "    .dataframe tbody tr th:only-of-type {\n",
       "        vertical-align: middle;\n",
       "    }\n",
       "\n",
       "    .dataframe tbody tr th {\n",
       "        vertical-align: top;\n",
       "    }\n",
       "\n",
       "    .dataframe thead th {\n",
       "        text-align: right;\n",
       "    }\n",
       "</style>\n",
       "<table border=\"1\" class=\"dataframe\">\n",
       "  <thead>\n",
       "    <tr style=\"text-align: right;\">\n",
       "      <th></th>\n",
       "      <th>Comment</th>\n",
       "      <th>Sentiment</th>\n",
       "      <th>Language</th>\n",
       "    </tr>\n",
       "  </thead>\n",
       "  <tbody>\n",
       "    <tr>\n",
       "      <th>328712</th>\n",
       "      <td>refus move gaza home</td>\n",
       "      <td>0</td>\n",
       "      <td>en</td>\n",
       "    </tr>\n",
       "    <tr>\n",
       "      <th>431204</th>\n",
       "      <td>find sourc code</td>\n",
       "      <td>0</td>\n",
       "      <td>en</td>\n",
       "    </tr>\n",
       "    <tr>\n",
       "      <th>556515</th>\n",
       "      <td>전투 재미 없 모험 맛 지금 에서 기 타 게임 많이 밀리 ᆫ다 오직 퀘스트 깨 재미...</td>\n",
       "      <td>0</td>\n",
       "      <td>ko</td>\n",
       "    </tr>\n",
       "    <tr>\n",
       "      <th>101150</th>\n",
       "      <td>newsmax real america voic one america news oan...</td>\n",
       "      <td>0</td>\n",
       "      <td>en</td>\n",
       "    </tr>\n",
       "    <tr>\n",
       "      <th>158853</th>\n",
       "      <td>dude anyth everyth except talk wife</td>\n",
       "      <td>0</td>\n",
       "      <td>en</td>\n",
       "    </tr>\n",
       "  </tbody>\n",
       "</table>\n",
       "</div>"
      ],
      "text/plain": [
       "                                                  Comment Sentiment Language\n",
       "328712                               refus move gaza home         0       en\n",
       "431204                                    find sourc code         0       en\n",
       "556515  전투 재미 없 모험 맛 지금 에서 기 타 게임 많이 밀리 ᆫ다 오직 퀘스트 깨 재미...         0       ko\n",
       "101150  newsmax real america voic one america news oan...         0       en\n",
       "158853                dude anyth everyth except talk wife         0       en"
      ]
     },
     "execution_count": 16,
     "metadata": {},
     "output_type": "execute_result"
    }
   ],
   "source": [
    "df = df[[\"clean_comment\", \"Sentiment\", \"language\"]]\n",
    "df.rename(columns={\"clean_comment\": \"Comment\", \"language\": \"Language\"}, inplace=True)\n",
    "df.head()"
   ]
  },
  {
   "cell_type": "code",
   "execution_count": 17,
   "id": "e9f28cf9",
   "metadata": {},
   "outputs": [],
   "source": [
    "df.to_csv(\"../data/traditional_preprocessed_data.csv\", index=False)"
   ]
  },
  {
   "cell_type": "code",
   "execution_count": null,
   "id": "3b525f1d",
   "metadata": {},
   "outputs": [],
   "source": []
  }
 ],
 "metadata": {
  "kernelspec": {
   "display_name": "venv",
   "language": "python",
   "name": "python3"
  },
  "language_info": {
   "codemirror_mode": {
    "name": "ipython",
    "version": 3
   },
   "file_extension": ".py",
   "mimetype": "text/x-python",
   "name": "python",
   "nbconvert_exporter": "python",
   "pygments_lexer": "ipython3",
   "version": "3.12.6"
  }
 },
 "nbformat": 4,
 "nbformat_minor": 5
}
