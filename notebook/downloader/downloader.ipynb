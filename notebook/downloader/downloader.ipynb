{
 "cells": [
  {
   "cell_type": "code",
   "execution_count": null,
   "id": "35079629",
   "metadata": {},
   "outputs": [],
   "source": [
    "import os\n",
    "import pprint\n",
    "from dotenv import load_dotenv\n",
    "from googleapiclient.discovery import build"
   ]
  },
  {
   "cell_type": "code",
   "execution_count": 78,
   "id": "cfd536ac",
   "metadata": {},
   "outputs": [],
   "source": [
    "load_dotenv()\n",
    "api_key = os.getenv(\"API_KEY\")"
   ]
  },
  {
   "cell_type": "code",
   "execution_count": 9,
   "id": "e0bd4921",
   "metadata": {},
   "outputs": [],
   "source": [
    "youtube = build(\"youtube\", \"v3\", developerKey=api_key)"
   ]
  },
  {
   "cell_type": "code",
   "execution_count": 79,
   "id": "a0bbc019",
   "metadata": {},
   "outputs": [
    {
     "name": "stdout",
     "output_type": "stream",
     "text": [
      "l5Z1PBJLUss\n"
     ]
    }
   ],
   "source": [
    "youtube_url = \"https://www.youtube.com/watch?v=l5Z1PBJLUss\"\n",
    "video_id = youtube_url.split(\"=\")[-1]\n",
    "print(video_id)"
   ]
  },
  {
   "cell_type": "code",
   "execution_count": null,
   "id": "5449f42d",
   "metadata": {},
   "outputs": [],
   "source": [
    "response = (\n",
    "    youtube.commentThreads()\n",
    "    .list(part=\"id, snippet, replies\", order=\"relevance\", videoId=video_id, maxResults=1)\n",
    "    .execute()\n",
    ")"
   ]
  },
  {
   "cell_type": "code",
   "execution_count": 25,
   "id": "806fd264",
   "metadata": {},
   "outputs": [
    {
     "name": "stdout",
     "output_type": "stream",
     "text": [
      "[{'kind': 'youtube#commentThread',\n",
      "  'etag': 'VHn8rDDtrZXo579-4JFrl9BZkF8',\n",
      "  'id': 'UgyD5tTxNG_XoSsbT9p4AaABAg',\n",
      "  'snippet': {'channelId': 'UC3SyT4_WLHzN7JmHQwKQZww',\n",
      "              'videoId': 'l5Z1PBJLUss',\n",
      "              'topLevelComment': {'kind': 'youtube#comment',\n",
      "                                  'etag': 'Ywwb83dRwDZMbHx9YpLjMWR-Zrg',\n",
      "                                  'id': 'UgyD5tTxNG_XoSsbT9p4AaABAg',\n",
      "                                  'snippet': {'channelId': 'UC3SyT4_WLHzN7JmHQwKQZww',\n",
      "                                              'videoId': 'l5Z1PBJLUss',\n",
      "                                              'textDisplay': '진짜 미인을 데려오셨네...',\n",
      "                                              'textOriginal': '진짜 미인을 데려오셨네...',\n",
      "                                              'authorDisplayName': '@teukgum',\n",
      "                                              'authorProfileImageUrl': 'https://yt3.ggpht.com/GZUjRxCx9O81zIXZZvQWoiK-yneiFlehlbN8tTSpdgoC7yOiNUuErje-Nipzitw6Jr9sPcl0wg=s48-c-k-c0x00ffffff-no-rj',\n",
      "                                              'authorChannelUrl': 'http://www.youtube.com/@teukgum',\n",
      "                                              'authorChannelId': {'value': 'UCtKwmnTxOkxz9QATTtEc4nQ'},\n",
      "                                              'canRate': True,\n",
      "                                              'viewerRating': 'none',\n",
      "                                              'likeCount': 11203,\n",
      "                                              'publishedAt': '2025-05-28T15:03:05Z',\n",
      "                                              'updatedAt': '2025-05-28T15:03:05Z'}},\n",
      "              'canReply': True,\n",
      "              'totalReplyCount': 37,\n",
      "              'isPublic': True},\n",
      "  'replies': {'comments': [{'kind': 'youtube#comment',\n",
      "                            'etag': 'SYtHSDPMSYnP1DAOBsbXY1RBQTs',\n",
      "                            'id': 'UgyD5tTxNG_XoSsbT9p4AaABAg.AIfPV5qT5ZKAIfQFv4duVl',\n",
      "                            'snippet': {'channelId': 'UC3SyT4_WLHzN7JmHQwKQZww',\n",
      "                                        'videoId': 'l5Z1PBJLUss',\n",
      "                                        'textDisplay': '대한민국의 초미인을 진짜로',\n",
      "                                        'textOriginal': '대한민국의 초미인을 진짜로',\n",
      "                                        'parentId': 'UgyD5tTxNG_XoSsbT9p4AaABAg',\n",
      "                                        'authorDisplayName': '@김행행',\n",
      "                                        'authorProfileImageUrl': 'https://yt3.ggpht.com/ytc/AIdro_li7NA0qOHVMPKXk89gVDpifccBZHgTGMYPT7jp0yk=s48-c-k-c0x00ffffff-no-rj',\n",
      "                                        'authorChannelUrl': 'http://www.youtube.com/@%EA%B9%80%ED%96%89%ED%96%89',\n",
      "                                        'authorChannelId': {'value': 'UCIDPiZzcBrzpXW3lJC6AgmQ'},\n",
      "                                        'canRate': True,\n",
      "                                        'viewerRating': 'none',\n",
      "                                        'likeCount': 427,\n",
      "                                        'publishedAt': '2025-05-28T15:09:45Z',\n",
      "                                        'updatedAt': '2025-05-28T15:09:45Z'}},\n",
      "                           {'kind': 'youtube#comment',\n",
      "                            'etag': 'WkgeIho8ktYGucL6atOC0cth2JA',\n",
      "                            'id': 'UgyD5tTxNG_XoSsbT9p4AaABAg.AIfPV5qT5ZKAIfQRiHn1tk',\n",
      "                            'snippet': {'channelId': 'UC3SyT4_WLHzN7JmHQwKQZww',\n",
      "                                        'videoId': 'l5Z1PBJLUss',\n",
      "                                        'textDisplay': '진짜 개이쁘네 오른쪽',\n",
      "                                        'textOriginal': '진짜 개이쁘네 오른쪽',\n",
      "                                        'parentId': 'UgyD5tTxNG_XoSsbT9p4AaABAg',\n",
      "                                        'authorDisplayName': '@게임저장소-k60',\n",
      "                                        'authorProfileImageUrl': 'https://yt3.ggpht.com/ytc/AIdro_nJcEDcr38Q0KjSJL5pfRfVjF7ZgvVghIfq2LfLG8ZgL_PJsmY=s48-c-k-c0x00ffffff-no-rj',\n",
      "                                        'authorChannelUrl': 'http://www.youtube.com/@%EA%B2%8C%EC%9E%84%EC%A0%80%EC%9E%A5%EC%86%8C-k60',\n",
      "                                        'authorChannelId': {'value': 'UCSYoZjJ_6V4GrRbkVCvamyA'},\n",
      "                                        'canRate': True,\n",
      "                                        'viewerRating': 'none',\n",
      "                                        'likeCount': 167,\n",
      "                                        'publishedAt': '2025-05-28T15:11:21Z',\n",
      "                                        'updatedAt': '2025-05-28T15:11:21Z'}},\n",
      "                           {'kind': 'youtube#comment',\n",
      "                            'etag': 'pf9bGA95xTkJVWA-LsIsh3FEKzk',\n",
      "                            'id': 'UgyD5tTxNG_XoSsbT9p4AaABAg.AIfPV5qT5ZKAIfQzKoy6hQ',\n",
      "                            'snippet': {'channelId': 'UC3SyT4_WLHzN7JmHQwKQZww',\n",
      "                                        'videoId': 'l5Z1PBJLUss',\n",
      "                                        'textDisplay': 'ㅇㅈ',\n",
      "                                        'textOriginal': 'ㅇㅈ',\n",
      "                                        'parentId': 'UgyD5tTxNG_XoSsbT9p4AaABAg',\n",
      "                                        'authorDisplayName': '@H.nul1_697',\n",
      "                                        'authorProfileImageUrl': 'https://yt3.ggpht.com/STbdaLZZqrGMdRzfpsz02xywRXx5dtdXJimE7BIYB9vrF8u5ykWH8z9VYrC9pGp2eOgKnpSZiA=s48-c-k-c0x00ffffff-no-rj',\n",
      "                                        'authorChannelUrl': 'http://www.youtube.com/@H.nul1_697',\n",
      "                                        'authorChannelId': {'value': 'UCRMVMmf69-mXYs0IbebHb6w'},\n",
      "                                        'canRate': True,\n",
      "                                        'viewerRating': 'none',\n",
      "                                        'likeCount': 25,\n",
      "                                        'publishedAt': '2025-05-28T15:16:05Z',\n",
      "                                        'updatedAt': '2025-05-28T15:16:05Z'}},\n",
      "                           {'kind': 'youtube#comment',\n",
      "                            'etag': 'waDMDqF0k0Lo4SXRJKawOhuNQ0U',\n",
      "                            'id': 'UgyD5tTxNG_XoSsbT9p4AaABAg.AIfPV5qT5ZKAIfR--KFsaR',\n",
      "                            'snippet': {'channelId': 'UC3SyT4_WLHzN7JmHQwKQZww',\n",
      "                                        'videoId': 'l5Z1PBJLUss',\n",
      "                                        'textDisplay': '❤❤',\n",
      "                                        'textOriginal': '❤❤',\n",
      "                                        'parentId': 'UgyD5tTxNG_XoSsbT9p4AaABAg',\n",
      "                                        'authorDisplayName': '@__LALISA__WORLDWIDENUMBERONE',\n",
      "                                        'authorProfileImageUrl': 'https://yt3.ggpht.com/OxHgGxUJT1UoSwgjNQFiUO3_m3IG2Y7ko3dkBe3TmPGeocjC-xoTiIR98qTNQoMgBidqs7L7UJc=s48-c-k-c0x00ffffff-no-rj',\n",
      "                                        'authorChannelUrl': 'http://www.youtube.com/@__LALISA__WORLDWIDENUMBERONE',\n",
      "                                        'authorChannelId': {'value': 'UC4eJ9AJdhOoF9fM_yNBFqZw'},\n",
      "                                        'canRate': True,\n",
      "                                        'viewerRating': 'none',\n",
      "                                        'likeCount': 11,\n",
      "                                        'publishedAt': '2025-05-28T15:16:10Z',\n",
      "                                        'updatedAt': '2025-05-28T15:16:10Z'}},\n",
      "                           {'kind': 'youtube#comment',\n",
      "                            'etag': 'my_4EtbfDoeCg6JqrzSY4QmKPyo',\n",
      "                            'id': 'UgyD5tTxNG_XoSsbT9p4AaABAg.AIfPV5qT5ZKAIfReH1k1IE',\n",
      "                            'snippet': {'channelId': 'UC3SyT4_WLHzN7JmHQwKQZww',\n",
      "                                        'videoId': 'l5Z1PBJLUss',\n",
      "                                        'textDisplay': '근데 솔직히 저렇게 빛날정도의 미인이면 '\n",
      "                                                       '차은우라고 기대하긴했는데 진짜네 '\n",
      "                                                       'ㅋㅋㅋㅋㅋ',\n",
      "                                        'textOriginal': '근데 솔직히 저렇게 빛날정도의 미인이면 '\n",
      "                                                        '차은우라고 기대하긴했는데 진짜네 '\n",
      "                                                        'ㅋㅋㅋㅋㅋ',\n",
      "                                        'parentId': 'UgyD5tTxNG_XoSsbT9p4AaABAg',\n",
      "                                        'authorDisplayName': '@Always_Tired_x',\n",
      "                                        'authorProfileImageUrl': 'https://yt3.ggpht.com/gGH5Qd3ZS6bkvUPKF2uoKFl-QI4jyq6skDrC4zps1N3GMFzuFjuyU3wn0puAhNqMetze0E3p3g=s48-c-k-c0x00ffffff-no-rj',\n",
      "                                        'authorChannelUrl': 'http://www.youtube.com/@Always_Tired_x',\n",
      "                                        'authorChannelId': {'value': 'UCU-tr3DYyuk3cj2mnnsqIcA'},\n",
      "                                        'canRate': True,\n",
      "                                        'viewerRating': 'none',\n",
      "                                        'likeCount': 262,\n",
      "                                        'publishedAt': '2025-05-28T15:21:57Z',\n",
      "                                        'updatedAt': '2025-05-28T15:21:57Z'}}]}}]\n"
     ]
    }
   ],
   "source": [
    "pprint.pp(response[\"items\"])"
   ]
  },
  {
   "cell_type": "code",
   "execution_count": null,
   "id": "4ac27ec2",
   "metadata": {},
   "outputs": [],
   "source": []
  },
  {
   "cell_type": "code",
   "execution_count": null,
   "id": "8656b965",
   "metadata": {},
   "outputs": [],
   "source": []
  }
 ],
 "metadata": {
  "kernelspec": {
   "display_name": "venv",
   "language": "python",
   "name": "python3"
  },
  "language_info": {
   "codemirror_mode": {
    "name": "ipython",
    "version": 3
   },
   "file_extension": ".py",
   "mimetype": "text/x-python",
   "name": "python",
   "nbconvert_exporter": "python",
   "pygments_lexer": "ipython3",
   "version": "3.12.6"
  }
 },
 "nbformat": 4,
 "nbformat_minor": 5
}
