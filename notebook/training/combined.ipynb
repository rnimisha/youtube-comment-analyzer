{
 "cells": [
  {
   "cell_type": "code",
   "execution_count": 1,
   "id": "c23be89b",
   "metadata": {},
   "outputs": [],
   "source": [
    "import pandas as pd\n",
    "import numpy as np\n",
    "from gensim.models import KeyedVectors\n",
    "from sklearn.metrics import classification_report\n",
    "\n",
    "from sklearn.linear_model import LogisticRegression\n",
    "from sklearn.svm import LinearSVC\n",
    "from sklearn.model_selection import train_test_split\n",
    "from sklearn.preprocessing import normalize"
   ]
  },
  {
   "cell_type": "code",
   "execution_count": 3,
   "id": "5a564839",
   "metadata": {},
   "outputs": [],
   "source": [
    "fasttext_ko = KeyedVectors.load_word2vec_format(\n",
    "    \"../../fasttext/wiki.ko.align.vec\", binary=False\n",
    ")\n",
    "fasttext_en = KeyedVectors.load_word2vec_format(\n",
    "    \"../../fasttext/wiki.en.align.vec\", binary=False\n",
    ")"
   ]
  },
  {
   "cell_type": "code",
   "execution_count": 2,
   "id": "370e646b",
   "metadata": {},
   "outputs": [
    {
     "data": {
      "text/html": [
       "<div>\n",
       "<style scoped>\n",
       "    .dataframe tbody tr th:only-of-type {\n",
       "        vertical-align: middle;\n",
       "    }\n",
       "\n",
       "    .dataframe tbody tr th {\n",
       "        vertical-align: top;\n",
       "    }\n",
       "\n",
       "    .dataframe thead th {\n",
       "        text-align: right;\n",
       "    }\n",
       "</style>\n",
       "<table border=\"1\" class=\"dataframe\">\n",
       "  <thead>\n",
       "    <tr style=\"text-align: right;\">\n",
       "      <th></th>\n",
       "      <th>Comment</th>\n",
       "      <th>Sentiment</th>\n",
       "      <th>Language</th>\n",
       "    </tr>\n",
       "  </thead>\n",
       "  <tbody>\n",
       "    <tr>\n",
       "      <th>0</th>\n",
       "      <td>['맛있', '분위기', '좋', '어요', '야외', '에서', '식사', '가능...</td>\n",
       "      <td>1</td>\n",
       "      <td>ko</td>\n",
       "    </tr>\n",
       "    <tr>\n",
       "      <th>1</th>\n",
       "      <td>['어느', '수산', '시장', '에서', '나', '나오', '면', '먹', ...</td>\n",
       "      <td>0</td>\n",
       "      <td>ko</td>\n",
       "    </tr>\n",
       "    <tr>\n",
       "      <th>2</th>\n",
       "      <td>['wow', 'wow', 'funky', 'little', 'fleet', 'sa...</td>\n",
       "      <td>1</td>\n",
       "      <td>en</td>\n",
       "    </tr>\n",
       "    <tr>\n",
       "      <th>3</th>\n",
       "      <td>['invention', 'original', 'purpose', 'british'...</td>\n",
       "      <td>1</td>\n",
       "      <td>en</td>\n",
       "    </tr>\n",
       "    <tr>\n",
       "      <th>4</th>\n",
       "      <td>['양', '푸짐', '소스', '모자라', '면', '리필', '가능', '어서'...</td>\n",
       "      <td>1</td>\n",
       "      <td>ko</td>\n",
       "    </tr>\n",
       "  </tbody>\n",
       "</table>\n",
       "</div>"
      ],
      "text/plain": [
       "                                             Comment  Sentiment Language\n",
       "0  ['맛있', '분위기', '좋', '어요', '야외', '에서', '식사', '가능...          1       ko\n",
       "1  ['어느', '수산', '시장', '에서', '나', '나오', '면', '먹', ...          0       ko\n",
       "2  ['wow', 'wow', 'funky', 'little', 'fleet', 'sa...          1       en\n",
       "3  ['invention', 'original', 'purpose', 'british'...          1       en\n",
       "4  ['양', '푸짐', '소스', '모자라', '면', '리필', '가능', '어서'...          1       ko"
      ]
     },
     "execution_count": 2,
     "metadata": {},
     "output_type": "execute_result"
    }
   ],
   "source": [
    "df = pd.read_csv(\"../../data/embedding_preprocessed_data.csv\")\n",
    "df.head()"
   ]
  },
  {
   "cell_type": "code",
   "execution_count": 4,
   "id": "b2c91db0",
   "metadata": {},
   "outputs": [],
   "source": [
    "df_copy = df.copy()\n"
   ]
  },
  {
   "cell_type": "code",
   "execution_count": 4,
   "id": "acba1d2f",
   "metadata": {},
   "outputs": [],
   "source": [
    "X = df[[\"Comment\", \"Language\"]]\n",
    "y = df[\"Sentiment\"]"
   ]
  },
  {
   "cell_type": "code",
   "execution_count": 5,
   "id": "0a1c5a9f",
   "metadata": {},
   "outputs": [],
   "source": [
    "X_train, X_test, y_train, y_test = train_test_split(\n",
    "    X, y, test_size=0.2, random_state=42\n",
    ")"
   ]
  },
  {
   "cell_type": "code",
   "execution_count": 10,
   "id": "54d8d45d",
   "metadata": {},
   "outputs": [],
   "source": [
    "def create_vector(tokens, model):\n",
    "    vectors = [model[word] for word in tokens if word in model]\n",
    "    return np.mean(vectors, axis=0) if vectors else np.zeros(model.vector_size)"
   ]
  },
  {
   "cell_type": "code",
   "execution_count": 7,
   "id": "472057f1",
   "metadata": {},
   "outputs": [],
   "source": [
    "X_train[\"embedding\"] = X_train.apply(\n",
    "    lambda row: create_vector(\n",
    "        row[\"Comment\"], fasttext_ko if row[\"Language\"] == \"ko\" else fasttext_en\n",
    "    ),\n",
    "    axis=1,\n",
    ")\n",
    "\n",
    "X_test[\"embedding\"] = X_test.apply(\n",
    "    lambda row: create_vector(\n",
    "        row[\"Comment\"], fasttext_ko if row[\"Language\"] == \"ko\" else fasttext_en\n",
    "    ),\n",
    "    axis=1,\n",
    ")"
   ]
  },
  {
   "cell_type": "code",
   "execution_count": 8,
   "id": "d22accfa",
   "metadata": {},
   "outputs": [],
   "source": [
    "X_train = X_train.drop(columns=[\"Comment\", \"Language\"])\n",
    "X_test = X_test.drop(columns=[\"Comment\", \"Language\"])"
   ]
  },
  {
   "cell_type": "code",
   "execution_count": 12,
   "id": "beff43ef",
   "metadata": {},
   "outputs": [],
   "source": [
    "X_train_fasttext = np.stack(X_train[\"embedding\"].values)\n",
    "X_test_fasttext = np.stack(X_test[\"embedding\"].values)"
   ]
  },
  {
   "cell_type": "code",
   "execution_count": 13,
   "id": "6c39ed6e",
   "metadata": {},
   "outputs": [],
   "source": [
    "bert_train = np.load(\"../../model/train_embeddings.npy\")  \n",
    "bert_test = np.load(\"../../model/test_embeddings.npy\")"
   ]
  },
  {
   "cell_type": "code",
   "execution_count": null,
   "id": "5750c944",
   "metadata": {},
   "outputs": [],
   "source": [
    "X_train_fasttext = normalize(X_train_fasttext)\n",
    "X_test_fasttext = normalize(X_test_fasttext)\n",
    "bert_train = normalize(bert_train)\n",
    "bert_test = normalize(bert_test)\n",
    "\n",
    "X_train_hybrid = np.concatenate([X_train_fasttext, bert_train], axis=1)  \n",
    "X_test_hybrid = np.concatenate([X_test_fasttext, bert_test], axis=1)"
   ]
  },
  {
   "cell_type": "code",
   "execution_count": 20,
   "id": "5fd9526c",
   "metadata": {},
   "outputs": [
    {
     "name": "stdout",
     "output_type": "stream",
     "text": [
      "              precision    recall  f1-score   support\n",
      "\n",
      "           0       0.74      0.77      0.76     20063\n",
      "           1       0.76      0.73      0.75     19937\n",
      "\n",
      "    accuracy                           0.75     40000\n",
      "   macro avg       0.75      0.75      0.75     40000\n",
      "weighted avg       0.75      0.75      0.75     40000\n",
      "\n"
     ]
    }
   ],
   "source": [
    "lr = LogisticRegression(max_iter=1000)\n",
    "lr.fit(X_train_hybrid, y_train)\n",
    "y_pred = lr.predict(X_test_hybrid)\n",
    "\n",
    "print(classification_report(y_test, y_pred))"
   ]
  },
  {
   "cell_type": "code",
   "execution_count": 21,
   "id": "9797f1d8",
   "metadata": {},
   "outputs": [
    {
     "name": "stdout",
     "output_type": "stream",
     "text": [
      "              precision    recall  f1-score   support\n",
      "\n",
      "           0       0.74      0.77      0.75     79937\n",
      "           1       0.76      0.73      0.74     80063\n",
      "\n",
      "    accuracy                           0.75    160000\n",
      "   macro avg       0.75      0.75      0.75    160000\n",
      "weighted avg       0.75      0.75      0.75    160000\n",
      "\n"
     ]
    }
   ],
   "source": [
    "y_pred = lr.predict(X_train_hybrid)\n",
    "print(classification_report(y_train, y_pred))"
   ]
  },
  {
   "cell_type": "code",
   "execution_count": 17,
   "id": "000c95aa",
   "metadata": {},
   "outputs": [
    {
     "name": "stdout",
     "output_type": "stream",
     "text": [
      "              precision    recall  f1-score   support\n",
      "\n",
      "           0       0.78      0.82      0.80     20063\n",
      "           1       0.81      0.77      0.79     19937\n",
      "\n",
      "    accuracy                           0.80     40000\n",
      "   macro avg       0.80      0.80      0.80     40000\n",
      "weighted avg       0.80      0.80      0.80     40000\n",
      "\n"
     ]
    }
   ],
   "source": [
    "svm = LinearSVC()\n",
    "svm.fit(X_train_hybrid, y_train)\n",
    "y_pred = svm.predict(X_test_hybrid)\n",
    "\n",
    "print(classification_report(y_test, y_pred))"
   ]
  },
  {
   "cell_type": "markdown",
   "id": "78c89ddf",
   "metadata": {},
   "source": [
    "### English Only"
   ]
  },
  {
   "cell_type": "code",
   "execution_count": 33,
   "id": "912b33b6",
   "metadata": {},
   "outputs": [],
   "source": [
    "df_en = df_copy[df_copy[\"Language\"] == \"en\"]\n",
    "X= df_en[[\"Comment\", \"Language\"]]\n",
    "y= df_en[\"Sentiment\"]"
   ]
  },
  {
   "cell_type": "code",
   "execution_count": 34,
   "id": "c0eae72c",
   "metadata": {},
   "outputs": [],
   "source": [
    "X_train, X_test, y_train, y_test = train_test_split(\n",
    "    X, y, test_size=0.2, random_state=42\n",
    ")"
   ]
  },
  {
   "cell_type": "code",
   "execution_count": 35,
   "id": "02b48a8f",
   "metadata": {},
   "outputs": [],
   "source": [
    "X_train[\"embedding\"] = X_train.apply(\n",
    "    lambda row: create_vector(\n",
    "        row[\"Comment\"], fasttext_en\n",
    "    ),\n",
    "    axis=1,\n",
    ")\n",
    "\n",
    "X_test[\"embedding\"] = X_test.apply(\n",
    "    lambda row: create_vector(\n",
    "        row[\"Comment\"], fasttext_en\n",
    "    ),\n",
    "    axis=1,\n",
    ")"
   ]
  },
  {
   "cell_type": "code",
   "execution_count": 36,
   "id": "dd12a4fc",
   "metadata": {},
   "outputs": [],
   "source": [
    "X_train = X_train.drop(columns=[\"Comment\", \"Language\"])\n",
    "X_test = X_test.drop(columns=[\"Comment\", \"Language\"])"
   ]
  },
  {
   "cell_type": "code",
   "execution_count": 37,
   "id": "7fbe88be",
   "metadata": {},
   "outputs": [],
   "source": [
    "X_train_fasttext = np.vstack(X_train[\"embedding\"].values)\n",
    "X_test_fasttext = np.vstack(X_test[\"embedding\"].values)"
   ]
  },
  {
   "cell_type": "code",
   "execution_count": 38,
   "id": "30d22908",
   "metadata": {},
   "outputs": [],
   "source": [
    "bert_train = np.load(\"../../model/en_train_embeddings.npy\")\n",
    "bert_test = np.load(\"../../model/en_test_embeddings.npy\")"
   ]
  },
  {
   "cell_type": "code",
   "execution_count": 39,
   "id": "5683f22b",
   "metadata": {},
   "outputs": [],
   "source": [
    "X_train_fasttext = normalize(X_train_fasttext)\n",
    "X_test_fasttext = normalize(X_test_fasttext)\n",
    "bert_train = normalize(bert_train)\n",
    "bert_test = normalize(bert_test)\n",
    "\n",
    "X_train_hybrid = np.concatenate([X_train_fasttext, bert_train], axis=1)\n",
    "X_test_hybrid = np.concatenate([X_test_fasttext, bert_test], axis=1)"
   ]
  },
  {
   "cell_type": "code",
   "execution_count": 40,
   "id": "28d67821",
   "metadata": {},
   "outputs": [
    {
     "name": "stdout",
     "output_type": "stream",
     "text": [
      "              precision    recall  f1-score   support\n",
      "\n",
      "           0       0.67      0.75      0.71     10035\n",
      "           1       0.71      0.62      0.66      9965\n",
      "\n",
      "    accuracy                           0.69     20000\n",
      "   macro avg       0.69      0.69      0.69     20000\n",
      "weighted avg       0.69      0.69      0.69     20000\n",
      "\n"
     ]
    }
   ],
   "source": [
    "lr = LogisticRegression(max_iter=1000)\n",
    "lr.fit(X_train_hybrid, y_train)\n",
    "y_pred = lr.predict(X_test_hybrid)\n",
    "\n",
    "print(classification_report(y_test, y_pred))"
   ]
  },
  {
   "cell_type": "code",
   "execution_count": 41,
   "id": "6659f6e6",
   "metadata": {},
   "outputs": [
    {
     "name": "stdout",
     "output_type": "stream",
     "text": [
      "              precision    recall  f1-score   support\n",
      "\n",
      "           0       0.71      0.79      0.75     10035\n",
      "           1       0.76      0.68      0.72      9965\n",
      "\n",
      "    accuracy                           0.73     20000\n",
      "   macro avg       0.74      0.73      0.73     20000\n",
      "weighted avg       0.74      0.73      0.73     20000\n",
      "\n"
     ]
    }
   ],
   "source": [
    "svm = LinearSVC()\n",
    "svm.fit(X_train_hybrid, y_train)\n",
    "y_pred = svm.predict(X_test_hybrid)\n",
    "\n",
    "print(classification_report(y_test, y_pred))"
   ]
  },
  {
   "cell_type": "markdown",
   "id": "ec5f194f",
   "metadata": {},
   "source": [
    "### Korean Only"
   ]
  },
  {
   "cell_type": "code",
   "execution_count": 42,
   "id": "0dd9f552",
   "metadata": {},
   "outputs": [],
   "source": [
    "df_kr = df_copy[df_copy[\"Language\"] == \"ko\"]\n",
    "X = df_kr[[\"Comment\", \"Language\"]]\n",
    "y = df_kr[\"Sentiment\"]"
   ]
  },
  {
   "cell_type": "code",
   "execution_count": 43,
   "id": "7db0c79e",
   "metadata": {},
   "outputs": [],
   "source": [
    "X_train, X_test, y_train, y_test = train_test_split(\n",
    "    X, y, test_size=0.2, random_state=42\n",
    ")"
   ]
  },
  {
   "cell_type": "code",
   "execution_count": 44,
   "id": "d96d2403",
   "metadata": {},
   "outputs": [],
   "source": [
    "X_train[\"embedding\"] = X_train.apply(\n",
    "    lambda row: create_vector(row[\"Comment\"], fasttext_ko),\n",
    "    axis=1,\n",
    ")\n",
    "\n",
    "X_test[\"embedding\"] = X_test.apply(\n",
    "    lambda row: create_vector(row[\"Comment\"], fasttext_ko),\n",
    "    axis=1,\n",
    ")"
   ]
  },
  {
   "cell_type": "code",
   "execution_count": 45,
   "id": "70a18591",
   "metadata": {},
   "outputs": [],
   "source": [
    "X_train = X_train.drop(columns=[\"Comment\", \"Language\"])\n",
    "X_test = X_test.drop(columns=[\"Comment\", \"Language\"])"
   ]
  },
  {
   "cell_type": "code",
   "execution_count": 46,
   "id": "75190f04",
   "metadata": {},
   "outputs": [],
   "source": [
    "X_train_fasttext = np.vstack(X_train[\"embedding\"].values)\n",
    "X_test_fasttext = np.vstack(X_test[\"embedding\"].values)"
   ]
  },
  {
   "cell_type": "code",
   "execution_count": 47,
   "id": "2e16f4ca",
   "metadata": {},
   "outputs": [],
   "source": [
    "bert_train = np.load(\"../../model/en_train_embeddings.npy\")\n",
    "bert_test = np.load(\"../../model/en_test_embeddings.npy\")"
   ]
  },
  {
   "cell_type": "code",
   "execution_count": 48,
   "id": "06cd75cd",
   "metadata": {},
   "outputs": [],
   "source": [
    "X_train_fasttext = normalize(X_train_fasttext)\n",
    "X_test_fasttext = normalize(X_test_fasttext)\n",
    "bert_train = normalize(bert_train)\n",
    "bert_test = normalize(bert_test)\n",
    "\n",
    "X_train_hybrid = np.concatenate([X_train_fasttext, bert_train], axis=1)\n",
    "X_test_hybrid = np.concatenate([X_test_fasttext, bert_test], axis=1)"
   ]
  },
  {
   "cell_type": "code",
   "execution_count": 49,
   "id": "dba34f1f",
   "metadata": {},
   "outputs": [
    {
     "name": "stdout",
     "output_type": "stream",
     "text": [
      "              precision    recall  f1-score   support\n",
      "\n",
      "           0       0.82      0.82      0.82     10108\n",
      "           1       0.82      0.82      0.82      9892\n",
      "\n",
      "    accuracy                           0.82     20000\n",
      "   macro avg       0.82      0.82      0.82     20000\n",
      "weighted avg       0.82      0.82      0.82     20000\n",
      "\n"
     ]
    }
   ],
   "source": [
    "lr = LogisticRegression(max_iter=1000)\n",
    "lr.fit(X_train_hybrid, y_train)\n",
    "y_pred = lr.predict(X_test_hybrid)\n",
    "\n",
    "print(classification_report(y_test, y_pred))"
   ]
  },
  {
   "cell_type": "code",
   "execution_count": 50,
   "id": "f30a814b",
   "metadata": {},
   "outputs": [
    {
     "name": "stdout",
     "output_type": "stream",
     "text": [
      "              precision    recall  f1-score   support\n",
      "\n",
      "           0       0.86      0.86      0.86     10108\n",
      "           1       0.86      0.86      0.86      9892\n",
      "\n",
      "    accuracy                           0.86     20000\n",
      "   macro avg       0.86      0.86      0.86     20000\n",
      "weighted avg       0.86      0.86      0.86     20000\n",
      "\n"
     ]
    }
   ],
   "source": [
    "svm = LinearSVC()\n",
    "svm.fit(X_train_hybrid, y_train)\n",
    "y_pred = svm.predict(X_test_hybrid)\n",
    "\n",
    "print(classification_report(y_test, y_pred))"
   ]
  },
  {
   "cell_type": "code",
   "execution_count": null,
   "id": "ab461a07",
   "metadata": {},
   "outputs": [],
   "source": []
  }
 ],
 "metadata": {
  "kernelspec": {
   "display_name": "venv",
   "language": "python",
   "name": "python3"
  },
  "language_info": {
   "codemirror_mode": {
    "name": "ipython",
    "version": 3
   },
   "file_extension": ".py",
   "mimetype": "text/x-python",
   "name": "python",
   "nbconvert_exporter": "python",
   "pygments_lexer": "ipython3",
   "version": "3.12.6"
  }
 },
 "nbformat": 4,
 "nbformat_minor": 5
}
